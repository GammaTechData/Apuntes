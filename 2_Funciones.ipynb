{
 "cells": [
  {
   "attachments": {},
   "cell_type": "markdown",
   "metadata": {},
   "source": [
    "# FUNCIONES"
   ]
  },
  {
   "attachments": {},
   "cell_type": "markdown",
   "metadata": {},
   "source": [
    "### 1 - Programación funcional\n",
    "\n",
    "Según Wikipedia:\n",
    "\n",
    "*“Python es un lenguaje de programación interpretado cuya filosofía hace hincapié en la legibilidad de su código. Se trata de un lenguaje de programación multiparadigma, ya que soporta orientación a objetos, programación imperativa y programación funcional.”*\n",
    "\n",
    "Quiere decir que acepta diversas formar de trabajar con el lenguaje. Básicamente existen 3 paradigmas predominantes, o dicho de otra manera, 3 formas de organizar y escribir tu código.\n",
    "\n",
    "- **Programación imperativa (estructurada)**: el código será ejecutado desde el principio del fichero al final sin seguir ningún tipo de desviación. Su mayor ventaja radica en su simplicidad y poco peso. Su peligrosidad es el código espagueti, archivos con centenares o miles de líneas donde solo unos pocos seres humanos son capaces de modificar y salir victoriosos.\n",
    "\n",
    "- **Programación orientada a objetos (OOP o Object Oriented Programming)**: donde se encapsulan las variables y funciones en pequeños módulos capaces de clonarse y modificarse. Su punto fuerte es la capacidad de re-utilización y aislamiento para evitar problemas con otras funcionalidades. La parte negativa recae en la complejidad de crear buenos objetos y la depuración.\n",
    "\n",
    "- **Programación funcional (FP o Functional programming)**: donde el código se reparte en sencillas funciones capaces de ser invocadas con variables u otras funciones. Su facilidad de uso por atomicidad logra un mantenimiento sólido y compatible con casi cualquier lenguaje. Además su inmutabilidad de variables evita gran parte de los problemas que si sufre la programación orientada a objetos."
   ]
  },
  {
   "attachments": {},
   "cell_type": "markdown",
   "id": "d5b40bf7",
   "metadata": {},
   "source": [
    "## Funciones creadas"
   ]
  },
  {
   "cell_type": "code",
   "execution_count": 15,
   "metadata": {},
   "outputs": [],
   "source": [
    "def primerfuncion (): #Esto es una función def nombre_funcion ():\n",
    "\n",
    "    pass #Esto es lo que hace la función. En este caso nada"
   ]
  },
  {
   "attachments": {},
   "cell_type": "markdown",
   "metadata": {},
   "source": [
    "## Funciones Built-in "
   ]
  },
  {
   "attachments": {},
   "cell_type": "markdown",
   "id": "7c3d0272",
   "metadata": {},
   "source": [
    "El intérprete de Python tiene una serie de funciones y tipos incluidos en él que están siempre disponibles. Están listados [aquí](https://docs.python.org/es/3/library/functions.html?highlight=built) en orden alfabético."
   ]
  },
  {
   "cell_type": "code",
   "execution_count": null,
   "id": "8c86feb5",
   "metadata": {},
   "outputs": [],
   "source": [
    "# Consultamos las funciones Built-in disponibles de Python\n",
    "funciones = []\n",
    "for funcion in dir(__builtins__):\n",
    "    #imprimimos solo lo que son funciones\n",
    "    if funcion[0] != '_' and 'Error' not in funcion and 'Warning' not in funcion:\n",
    "        funciones.append(funcion)\n",
    "print(funciones)"
   ]
  },
  {
   "attachments": {},
   "cell_type": "markdown",
   "id": "b4b11e8b",
   "metadata": {},
   "source": [
    "![](https://i.pinimg.com/736x/27/cd/2c/27cd2cdaa4df0e803381bc151ffa5ee8.jpg)"
   ]
  },
  {
   "cell_type": "code",
   "execution_count": null,
   "id": "8c8dbd80",
   "metadata": {},
   "outputs": [],
   "source": [
    "#help(reversed)"
   ]
  },
  {
   "attachments": {},
   "cell_type": "markdown",
   "metadata": {},
   "source": [
    "## Extraer el código fuente de una función\n",
    "Ya que hablamos de las built-in, por curiosidad, si necesitamos extraer el código de una función escrita anteriormente podemos hacerlo así a modo de curiosidad:\n"
   ]
  },
  {
   "cell_type": "code",
   "execution_count": 16,
   "metadata": {},
   "outputs": [
    {
     "name": "stdout",
     "output_type": "stream",
     "text": [
      "def primerfuncion (): #Esto es una función def nombre_funcion ():\n",
      "\n",
      "    pass #Esto es lo que hace la función. En este caso nada\n",
      "\n"
     ]
    }
   ],
   "source": [
    "import inspect\n",
    "print(inspect.getsource(primerfuncion))"
   ]
  },
  {
   "attachments": {},
   "cell_type": "markdown",
   "metadata": {},
   "source": [
    "En las built-in functions no podemos extraer el código con inspect,😭 ya que Python en sí mismo está escrito en C... la función Print tiene este aspecto 👇🏻"
   ]
  },
  {
   "attachments": {},
   "cell_type": "markdown",
   "metadata": {},
   "source": [
    "```C\n",
    "static PyObject *\n",
    "builtin_print(PyObject *self, PyObject *args, PyObject *kwds)\n",
    "{\n",
    "    static char *kwlist[] = {\"sep\", \"end\", \"file\", 0};\n",
    "    static PyObject *dummy_args = NULL;\n",
    "    static PyObject *unicode_newline = NULL, *unicode_space = NULL;\n",
    "    static PyObject *str_newline = NULL, *str_space = NULL;\n",
    "    PyObject *newline, *space;\n",
    "    PyObject *sep = NULL, *end = NULL, *file = NULL;\n",
    "    int i, err, use_unicode = 0;\n",
    "\n",
    "    if (dummy_args == NULL) {\n",
    "        if (!(dummy_args = PyTuple_New(0)))\n",
    "            return NULL;\n",
    "    }\n",
    "    if (str_newline == NULL) {\n",
    "        str_newline = PyString_FromString(\"\\n\");\n",
    "        if (str_newline == NULL)\n",
    "            return NULL;\n",
    "        str_space = PyString_FromString(\" \");\n",
    "        if (str_space == NULL) {\n",
    "            Py_CLEAR(str_newline);\n",
    "            return NULL;\n",
    "        }\n",
    "#ifdef Py_USING_UNICODE\n",
    "        unicode_newline = PyUnicode_FromString(\"\\n\");\n",
    "        if (unicode_newline == NULL) {\n",
    "            Py_CLEAR(str_newline);\n",
    "            Py_CLEAR(str_space);\n",
    "            return NULL;\n",
    "        }\n",
    "        unicode_space = PyUnicode_FromString(\" \");\n",
    "        if (unicode_space == NULL) {\n",
    "            Py_CLEAR(str_newline);\n",
    "            Py_CLEAR(str_space);\n",
    "            Py_CLEAR(unicode_space);\n",
    "            return NULL;\n",
    "        }\n",
    "#endif\n",
    "    }\n",
    "    if (!PyArg_ParseTupleAndKeywords(dummy_args, kwds, \"|OOO:print\",\n",
    "                                     kwlist, &sep, &end, &file))\n",
    "        return NULL;\n",
    "    if (file == NULL || file == Py_None) {\n",
    "        file = PySys_GetObject(\"stdout\");\n",
    "        /* sys.stdout may be None when FILE* stdout isn't connected */\n",
    "        if (file == Py_None)\n",
    "            Py_RETURN_NONE;\n",
    "    }\n",
    "    if (sep == Py_None) {\n",
    "        sep = NULL;\n",
    "    }\n",
    "    else if (sep) {\n",
    "        if (PyUnicode_Check(sep)) {\n",
    "            use_unicode = 1;\n",
    "        }\n",
    "        else if (!PyString_Check(sep)) {\n",
    "            PyErr_Format(PyExc_TypeError,\n",
    "                         \"sep must be None, str or unicode, not %.200s\",\n",
    "                         sep->ob_type->tp_name);\n",
    "            return NULL;\n",
    "        }\n",
    "    }\n",
    "    if (end == Py_None)\n",
    "        end = NULL;\n",
    "    else if (end) {\n",
    "        if (PyUnicode_Check(end)) {\n",
    "            use_unicode = 1;\n",
    "        }\n",
    "        else if (!PyString_Check(end)) {\n",
    "            PyErr_Format(PyExc_TypeError,\n",
    "                         \"end must be None, str or unicode, not %.200s\",\n",
    "                         end->ob_type->tp_name);\n",
    "            return NULL;\n",
    "        }\n",
    "    }\n",
    "\n",
    "    if (!use_unicode) {\n",
    "        for (i = 0; i < PyTuple_Size(args); i++) {\n",
    "            if (PyUnicode_Check(PyTuple_GET_ITEM(args, i))) {\n",
    "                use_unicode = 1;\n",
    "                break;\n",
    "            }\n",
    "        }\n",
    "    }\n",
    "    if (use_unicode) {\n",
    "        newline = unicode_newline;\n",
    "        space = unicode_space;\n",
    "    }\n",
    "    else {\n",
    "        newline = str_newline;\n",
    "        space = str_space;\n",
    "    }\n",
    "\n",
    "    for (i = 0; i < PyTuple_Size(args); i++) {\n",
    "        if (i > 0) {\n",
    "            if (sep == NULL)\n",
    "                err = PyFile_WriteObject(space, file,\n",
    "                                         Py_PRINT_RAW);\n",
    "            else\n",
    "                err = PyFile_WriteObject(sep, file,\n",
    "                                         Py_PRINT_RAW);\n",
    "            if (err)\n",
    "                return NULL;\n",
    "        }\n",
    "        err = PyFile_WriteObject(PyTuple_GetItem(args, i), file,\n",
    "                                 Py_PRINT_RAW);\n",
    "        if (err)\n",
    "            return NULL;\n",
    "    }\n",
    "\n",
    "    if (end == NULL)\n",
    "        err = PyFile_WriteObject(newline, file, Py_PRINT_RAW);\n",
    "    else\n",
    "        err = PyFile_WriteObject(end, file, Py_PRINT_RAW);\n",
    "    if (err)\n",
    "        return NULL;\n",
    "\n",
    "    Py_RETURN_NONE;\n",
    "}\n",
    "```"
   ]
  },
  {
   "attachments": {},
   "cell_type": "markdown",
   "id": "a9ab971d",
   "metadata": {},
   "source": [
    "![](https://media.tenor.com/w-PCA2wkMQEAAAAM/mind-blown-shocked.gif)"
   ]
  },
  {
   "attachments": {},
   "cell_type": "markdown",
   "metadata": {},
   "source": [
    "## 2 - Sintaxis de funciones\n",
    "\n",
    "Para definir una función:\n",
    "```python\n",
    "\n",
    "def nombre_funcion(argumento/s de entrada):\n",
    "    # los dos puntos y la indentacion implican estar en la funcion\n",
    "    realiza un accion\n",
    "    return()   # devuelven un/os valor/es\n",
    "\n",
    "```\n",
    "\n",
    "Ejecución de la función: \n",
    "```python\n",
    "nombre_de_la_función(argumento1, argumento2, ...)\n",
    "```\n",
    "o, si quieres guardar el resultado en una variable: 💾\n",
    "```python\n",
    "resultado = nombre_de_la_función(argumento1, argumento2, ...)\n",
    "```"
   ]
  },
  {
   "attachments": {},
   "cell_type": "markdown",
   "metadata": {},
   "source": [
    "## 3 - Parámetros vs Argumentos\n",
    "\n",
    "Los parámetros formales para una función se enumeran en la declaración de la función y se utilizan en el cuerpo de la definición de la función.\n",
    "\n",
    "Un argumento es lo que se usa haciendo referencia a los parámetros. Cuando escribe una llamada de función, los argumentos se enumeran entre paréntesis después del nombre de la función. Cuando se ejecuta la llamada a la función, los argumentos se insertan para los parámetros.\n",
    "\n",
    "Digamos entonces que, los parámetros, son esas variables \"imaginarias\" que van a tener el mismo nombre en la definición y en el cuerpo de la función.       \n",
    "Los argumentos son los DATOS REALES que utilizamos cuando llamamos a la función."
   ]
  },
  {
   "cell_type": "code",
   "execution_count": null,
   "metadata": {},
   "outputs": [],
   "source": [
    "def suma (num1,num2): #num1 y num2 son los parámetros de la función\n",
    "    return num1 + num2"
   ]
  },
  {
   "cell_type": "code",
   "execution_count": null,
   "metadata": {},
   "outputs": [],
   "source": [
    "suma(2,3) #2 y 3 son los argumentos de la función"
   ]
  },
  {
   "attachments": {},
   "cell_type": "markdown",
   "metadata": {},
   "source": [
    "## 3.1 - Funciones que no tienen parámetros"
   ]
  },
  {
   "cell_type": "code",
   "execution_count": null,
   "metadata": {},
   "outputs": [],
   "source": [
    "def saluda():\n",
    "    return \"Cómo están los máquinas??\""
   ]
  },
  {
   "cell_type": "code",
   "execution_count": null,
   "metadata": {},
   "outputs": [],
   "source": [
    "saluda()"
   ]
  },
  {
   "attachments": {},
   "cell_type": "markdown",
   "metadata": {},
   "source": [
    "## 3.2 -  Funciones que no tienen return\n",
    "Hacen \"cosas\" pero no devuelven nada... y si una función no tiene return, entonces devuelve:         \n",
    "```python\n",
    "None\n",
    "```\n"
   ]
  },
  {
   "cell_type": "code",
   "execution_count": null,
   "metadata": {},
   "outputs": [],
   "source": [
    "def suma (num1,num2):\n",
    "    num1 + num2"
   ]
  },
  {
   "cell_type": "code",
   "execution_count": null,
   "metadata": {},
   "outputs": [],
   "source": [
    "suma(2,3)"
   ]
  },
  {
   "cell_type": "code",
   "execution_count": null,
   "metadata": {},
   "outputs": [],
   "source": [
    "type (suma(2,3))"
   ]
  },
  {
   "attachments": {},
   "cell_type": "markdown",
   "metadata": {},
   "source": [
    "## Vamos a hacer funciones 🤖🐍"
   ]
  },
  {
   "cell_type": "code",
   "execution_count": 20,
   "metadata": {},
   "outputs": [],
   "source": [
    "def saludo(name):\n",
    "    return \"Hola \"+name"
   ]
  },
  {
   "cell_type": "code",
   "execution_count": 21,
   "metadata": {},
   "outputs": [
    {
     "data": {
      "text/plain": [
       "'Hola a los máquinas'"
      ]
     },
     "execution_count": 21,
     "metadata": {},
     "output_type": "execute_result"
    }
   ],
   "source": [
    "saludo(\"a los máquinas\")"
   ]
  },
  {
   "cell_type": "code",
   "execution_count": 22,
   "metadata": {},
   "outputs": [
    {
     "data": {
      "text/plain": [
       "'Hola Pepe'"
      ]
     },
     "execution_count": 22,
     "metadata": {},
     "output_type": "execute_result"
    }
   ],
   "source": [
    "nombre = \"Pepe\"\n",
    "saludo(nombre)"
   ]
  },
  {
   "cell_type": "code",
   "execution_count": 23,
   "metadata": {},
   "outputs": [],
   "source": [
    "def saludo2(name):\n",
    "    print (\"Hola \"+name)"
   ]
  },
  {
   "cell_type": "code",
   "execution_count": 24,
   "metadata": {},
   "outputs": [
    {
     "name": "stdout",
     "output_type": "stream",
     "text": [
      "Hola Pepe\n"
     ]
    }
   ],
   "source": [
    "saludo2(nombre)"
   ]
  },
  {
   "cell_type": "code",
   "execution_count": 25,
   "metadata": {},
   "outputs": [
    {
     "name": "stdout",
     "output_type": "stream",
     "text": [
      "Hola Pepe\n"
     ]
    }
   ],
   "source": [
    "misaludo = saludo2(nombre)"
   ]
  },
  {
   "cell_type": "code",
   "execution_count": 26,
   "metadata": {},
   "outputs": [],
   "source": [
    "misaludo"
   ]
  },
  {
   "cell_type": "code",
   "execution_count": 27,
   "metadata": {},
   "outputs": [
    {
     "data": {
      "text/plain": [
       "NoneType"
      ]
     },
     "execution_count": 27,
     "metadata": {},
     "output_type": "execute_result"
    }
   ],
   "source": [
    "type(misaludo)"
   ]
  },
  {
   "attachments": {},
   "cell_type": "markdown",
   "metadata": {},
   "source": [
    "***🐍🧠HANDS ON🧠🐍***\n",
    "\n",
    "Me dan una hora con el siguiente formato: \"04:52\", minutos y segundos.Corresponde con un tiempo de un corredor en una carrera y tengo que calcular el número *entero* de segundos.  "
   ]
  },
  {
   "cell_type": "code",
   "execution_count": 28,
   "metadata": {},
   "outputs": [],
   "source": [
    "t=\"04:52\""
   ]
  },
  {
   "cell_type": "code",
   "execution_count": null,
   "metadata": {},
   "outputs": [],
   "source": [
    "#Resolvemos"
   ]
  },
  {
   "attachments": {},
   "cell_type": "markdown",
   "metadata": {},
   "source": [
    "Tenemos mucho código para UNA sola funcionalidad, que podríamos REUTILIZAR para diferentes casos, que pasa si tenemos que hacer la conversión para todos los tiempos de los corredores?\n",
    "\n",
    "**PARA ESTO ESTÁN LAS FUNCIONES**💣💣\n",
    "\n",
    "Vamos a convertirlo en una función que reciba como argumento el tiempo y devuelva el número de segundos."
   ]
  },
  {
   "cell_type": "code",
   "execution_count": null,
   "metadata": {},
   "outputs": [],
   "source": [
    "#def segundos (marca):\n",
    " #   return int(marca.split(\":\")[0])*60 + int(marca.split(\":\")[1])"
   ]
  },
  {
   "attachments": {},
   "cell_type": "markdown",
   "id": "54b34e9e",
   "metadata": {},
   "source": [
    "Vamos a crear una lista de tiempos de manera aleatoria:"
   ]
  },
  {
   "cell_type": "code",
   "execution_count": 36,
   "metadata": {},
   "outputs": [
    {
     "name": "stdout",
     "output_type": "stream",
     "text": [
      "['5:13', '10:41', '10:35', '6:40', '8:25', '1:40', '7:51', '7:26', '10:17', '10:52', '2:42', '5:28', '3:20', '5:32', '6:51', '7:47', '10:27', '1:44', '10:28', '9:48', '5:12', '4:47', '3:46', '2:16', '1:52', '7:42', '8:44', '8:27', '6:26', '3:43']\n"
     ]
    }
   ],
   "source": [
    "import random\n",
    "marcas = []\n",
    "for i in range(30):\n",
    "    marcas.append(str(random.randint(1,10))+\":\"+str(random.randint(10,59)))\n",
    "\n",
    "print(marcas)"
   ]
  },
  {
   "cell_type": "code",
   "execution_count": 37,
   "metadata": {},
   "outputs": [
    {
     "ename": "NameError",
     "evalue": "name 'segundos' is not defined",
     "output_type": "error",
     "traceback": [
      "\u001b[0;31m---------------------------------------------------------------------------\u001b[0m",
      "\u001b[0;31mNameError\u001b[0m                                 Traceback (most recent call last)",
      "Cell \u001b[0;32mIn[37], line 2\u001b[0m\n\u001b[1;32m      1\u001b[0m \u001b[39mfor\u001b[39;00m marca \u001b[39min\u001b[39;00m marcas:\n\u001b[0;32m----> 2\u001b[0m     \u001b[39mprint\u001b[39m(segundos(marca))\n",
      "\u001b[0;31mNameError\u001b[0m: name 'segundos' is not defined"
     ]
    }
   ],
   "source": [
    "for marca in marcas:\n",
    "    print(segundos(marca))"
   ]
  },
  {
   "attachments": {},
   "cell_type": "markdown",
   "metadata": {},
   "source": [
    "## Parámetros por defecto"
   ]
  },
  {
   "cell_type": "code",
   "execution_count": null,
   "metadata": {},
   "outputs": [],
   "source": [
    "def saludame (nombre, idioma = \"es\"):\n",
    "    if idioma == \"es\":\n",
    "        return f\"Qué pasa {nombre}!\"\n",
    "    elif idioma == \"en\":\n",
    "        return f\"What's uuuuup {nombre}\"\n",
    "    else:\n",
    "        return f\"No te entiendo\""
   ]
  },
  {
   "cell_type": "code",
   "execution_count": null,
   "metadata": {},
   "outputs": [],
   "source": [
    "saludame(\"Rodrigo\", \"es\")"
   ]
  },
  {
   "cell_type": "code",
   "execution_count": null,
   "metadata": {},
   "outputs": [],
   "source": [
    "saludame(\"Eva\", \"en\")"
   ]
  },
  {
   "cell_type": "code",
   "execution_count": null,
   "metadata": {},
   "outputs": [],
   "source": [
    "saludame(\"Juana\", \"fr\")"
   ]
  },
  {
   "cell_type": "code",
   "execution_count": null,
   "metadata": {},
   "outputs": [],
   "source": [
    "saludame(\"Juana\")#sin poner argumento idioma"
   ]
  },
  {
   "cell_type": "code",
   "execution_count": null,
   "metadata": {},
   "outputs": [],
   "source": [
    "saludame(idioma = \"en\")"
   ]
  },
  {
   "cell_type": "code",
   "execution_count": null,
   "metadata": {},
   "outputs": [],
   "source": [
    "saludame(\"en\", \"Sonia\")"
   ]
  },
  {
   "cell_type": "code",
   "execution_count": null,
   "metadata": {},
   "outputs": [],
   "source": [
    "saludame(idioma=\"en\", nombre=\"Sonia\")"
   ]
  },
  {
   "cell_type": "code",
   "execution_count": null,
   "metadata": {},
   "outputs": [],
   "source": [
    "def saludame2 (nombre, frase_educada = \"¿Qué tal la familia?\", idioma = \"es\"):\n",
    "    if idioma == \"es\":\n",
    "        return f\"Qué pasa {nombre}!{frase_educada}\"\n",
    "    elif idioma == \"en\":\n",
    "        return f\"What's uuuuup {nombre}\"\n",
    "    else:\n",
    "        return f\"No te entiendo\""
   ]
  },
  {
   "cell_type": "code",
   "execution_count": null,
   "metadata": {},
   "outputs": [],
   "source": [
    "saludame2(\"Ana\",idioma=\"en\")"
   ]
  },
  {
   "cell_type": "code",
   "execution_count": null,
   "metadata": {},
   "outputs": [],
   "source": [
    "saludame2(\"Ana\")"
   ]
  },
  {
   "cell_type": "code",
   "execution_count": null,
   "metadata": {},
   "outputs": [],
   "source": [
    "saludame2(\"\")"
   ]
  },
  {
   "attachments": {},
   "cell_type": "markdown",
   "metadata": {},
   "source": [
    "## No confundamos los PRINT dentro de una función con los RETURN!\n",
    "![](https://www.meme-arsenal.com/memes/fe5bf97fd7c334a13e0b1ed849ca6364.jpg) \n"
   ]
  },
  {
   "cell_type": "code",
   "execution_count": null,
   "metadata": {},
   "outputs": [],
   "source": [
    "def saludame (nombre, idioma = \"es\"):\n",
    "    if idioma == \"es\":\n",
    "        return f\"Qué pasa {nombre}!\"\n",
    "    elif idioma == \"en\":\n",
    "        return f\"What's uuuuup {nombre}\"\n",
    "    else:\n",
    "        return f\"No te entiendo\""
   ]
  },
  {
   "cell_type": "code",
   "execution_count": null,
   "metadata": {},
   "outputs": [],
   "source": [
    "mi_saludo = saludame(\"Pepe\")\n",
    "mi_saludo"
   ]
  },
  {
   "cell_type": "code",
   "execution_count": null,
   "metadata": {},
   "outputs": [],
   "source": [
    "type(mi_saludo)"
   ]
  },
  {
   "cell_type": "code",
   "execution_count": null,
   "metadata": {},
   "outputs": [],
   "source": [
    "#ponemos prints en vez de return\n",
    "def saludame_mal (nombre, idioma = \"es\"):\n",
    "    if idioma == \"es\":\n",
    "        print( f\"Qué pasa {nombre}!\")\n",
    "    elif idioma == \"en\":\n",
    "        print (f\"What's uuuuup {nombre}\")\n",
    "    else:\n",
    "        print (f\"No te entiendo\")"
   ]
  },
  {
   "cell_type": "code",
   "execution_count": null,
   "metadata": {},
   "outputs": [],
   "source": [
    "misaludo_2 = saludame_mal(\"Pepe\")\n"
   ]
  },
  {
   "cell_type": "code",
   "execution_count": null,
   "metadata": {},
   "outputs": [],
   "source": [
    "misaludo_2"
   ]
  },
  {
   "cell_type": "code",
   "execution_count": null,
   "metadata": {},
   "outputs": [],
   "source": [
    "type(misaludo_2)"
   ]
  },
  {
   "attachments": {},
   "cell_type": "markdown",
   "metadata": {},
   "source": [
    "## Docstring\n",
    "El código se escribe 1 vez.  \n",
    "El código se lee 100 veces.  \n",
    "Ayuda a tus compañeros a entender tu trabajo.  \n",
    "![lafoto](https://res.cloudinary.com/highflyer910/image/upload/v1589577574/1_1_httqnc.jpg)\n",
    "En este ejemplo, hemos definido una función gato que devuelve miau. Hemos declarado un docstring que explica lo que hace la función. Para obtener el docstring de una función, necesitamos mostrar el atributo doc (print(cat.__doc__))     \n",
    "Referencia de la foto, la descripción y más info sobre docstring [aquí](https://techiestuff.netlify.app/blog/what-is-a-python-docstring/)"
   ]
  },
  {
   "cell_type": "code",
   "execution_count": null,
   "metadata": {},
   "outputs": [],
   "source": [
    "def funcioncita():\n",
    "    \"\"\"Una función para ver qué es un docstring\"\"\"\n",
    "    pass"
   ]
  },
  {
   "cell_type": "code",
   "execution_count": null,
   "metadata": {},
   "outputs": [],
   "source": [
    "funcioncita.__doc__"
   ]
  },
  {
   "cell_type": "code",
   "execution_count": null,
   "metadata": {},
   "outputs": [],
   "source": [
    "sum.__doc__"
   ]
  },
  {
   "cell_type": "code",
   "execution_count": null,
   "metadata": {},
   "outputs": [],
   "source": [
    "help(funcioncita)"
   ]
  },
  {
   "cell_type": "code",
   "execution_count": null,
   "metadata": {},
   "outputs": [],
   "source": [
    "funcioncita() #si situamos el cursor encima de \"funcioncita\" y pulsamos shift+tab podemos ver el docstring"
   ]
  },
  {
   "attachments": {},
   "cell_type": "markdown",
   "metadata": {},
   "source": [
    "## Scope de las funciones"
   ]
  },
  {
   "cell_type": "code",
   "execution_count": null,
   "metadata": {},
   "outputs": [],
   "source": [
    "#Variable global\n",
    "mivariable = 56"
   ]
  },
  {
   "cell_type": "code",
   "execution_count": null,
   "metadata": {},
   "outputs": [],
   "source": [
    "34 + mivariable"
   ]
  },
  {
   "cell_type": "code",
   "execution_count": null,
   "metadata": {},
   "outputs": [],
   "source": [
    "def sumar_56(num):\n",
    "    return mivariable+num"
   ]
  },
  {
   "cell_type": "code",
   "execution_count": null,
   "metadata": {},
   "outputs": [],
   "source": [
    "sumar_56(15)"
   ]
  },
  {
   "cell_type": "code",
   "execution_count": null,
   "metadata": {},
   "outputs": [],
   "source": [
    "#variable local\n",
    "def sumar_71(num):\n",
    "    nombre_local = input(\"Introduzca su nombre\")\n",
    "    varlocal = 71\n",
    "    return f\"{nombre_local}, el resultado es {num+varlocal}\""
   ]
  },
  {
   "cell_type": "code",
   "execution_count": null,
   "metadata": {},
   "outputs": [],
   "source": [
    "nombre_local #esta variable es local, solo existe dentro de la función"
   ]
  },
  {
   "cell_type": "code",
   "execution_count": null,
   "metadata": {},
   "outputs": [],
   "source": [
    "sumar_71(9)s"
   ]
  },
  {
   "cell_type": "code",
   "execution_count": null,
   "metadata": {},
   "outputs": [],
   "source": [
    "varlocal = 7 #ahora es una variable global"
   ]
  },
  {
   "cell_type": "code",
   "execution_count": null,
   "metadata": {},
   "outputs": [],
   "source": [
    "varlocal"
   ]
  },
  {
   "cell_type": "code",
   "execution_count": null,
   "metadata": {},
   "outputs": [],
   "source": [
    "sumar_71(9)"
   ]
  },
  {
   "cell_type": "code",
   "execution_count": null,
   "metadata": {},
   "outputs": [],
   "source": [
    "varlocal"
   ]
  },
  {
   "cell_type": "code",
   "execution_count": null,
   "metadata": {},
   "outputs": [],
   "source": [
    "siglo = 21\n",
    "def mifecha (d,m,a):\n",
    "    \n",
    "    return f\"{d}-{m}-{a}-{siglo}\""
   ]
  },
  {
   "cell_type": "code",
   "execution_count": null,
   "metadata": {},
   "outputs": [],
   "source": [
    "mifecha(13,1,1998)"
   ]
  },
  {
   "attachments": {},
   "cell_type": "markdown",
   "metadata": {},
   "source": [
    "## *Args\n",
    "En Python, el parámetro especial *args en una función se usa para pasar, de forma opcional, un número variable de argumentos posicionales."
   ]
  },
  {
   "cell_type": "code",
   "execution_count": null,
   "metadata": {},
   "outputs": [],
   "source": [
    "def suma(a,b):\n",
    "    return a+b"
   ]
  },
  {
   "cell_type": "code",
   "execution_count": null,
   "metadata": {},
   "outputs": [],
   "source": [
    "suma(8,2)"
   ]
  },
  {
   "cell_type": "code",
   "execution_count": null,
   "metadata": {},
   "outputs": [],
   "source": [
    "suma(1,5,3)"
   ]
  },
  {
   "cell_type": "code",
   "execution_count": null,
   "metadata": {},
   "outputs": [],
   "source": [
    "def suma(*args):\n",
    "    print(args)\n",
    "    print(type(args))\n",
    "    t=0\n",
    "    for n in args:\n",
    "        t+= n\n",
    "    return t\n",
    "        "
   ]
  },
  {
   "cell_type": "code",
   "execution_count": null,
   "metadata": {},
   "outputs": [],
   "source": [
    "suma(4)"
   ]
  },
  {
   "cell_type": "code",
   "execution_count": null,
   "metadata": {},
   "outputs": [],
   "source": [
    "suma(4,8,12)"
   ]
  },
  {
   "attachments": {},
   "cell_type": "markdown",
   "metadata": {},
   "source": [
    "### Otro ejemplo:\n",
    "Jaime vive con dos compañeras de piso, y quieren dividir el alquiler a partes iguales, pero en algún moment oel número de compañeras de piso podría cambiar."
   ]
  },
  {
   "cell_type": "code",
   "execution_count": null,
   "metadata": {},
   "outputs": [],
   "source": [
    "def alquiler(precio, *args):\n",
    "    return precio/len(args)"
   ]
  },
  {
   "cell_type": "code",
   "execution_count": null,
   "metadata": {},
   "outputs": [],
   "source": [
    "alquiler(3000, \"Manolo\", \"Juan\", \"Pepe\")"
   ]
  },
  {
   "attachments": {},
   "cell_type": "markdown",
   "metadata": {},
   "source": [
    "Recogen a Kenia, una gata callejera adorable, pero por supuesto ahora Kenia tendrá que pagar el alquiler."
   ]
  },
  {
   "cell_type": "code",
   "execution_count": null,
   "metadata": {},
   "outputs": [],
   "source": [
    "#Llega Kenia\n",
    "alquiler(3000, \"Belén\", \"Lore\", \"Sonia\", \"Kenia\")"
   ]
  },
  {
   "attachments": {},
   "cell_type": "markdown",
   "metadata": {},
   "source": [
    "## **Kwargs"
   ]
  },
  {
   "attachments": {},
   "cell_type": "markdown",
   "metadata": {},
   "source": [
    "También podemos pasar como argumento un diccionario usando como claves los nombres de los parámetros (* *kwargs).\n",
    "Emplea * *kwargs para pasar de forma opcional a una función un número variable de argumentos con nombre.      \n",
    "Es un diccionario cuyas claves se convierten en parámetros y sus valores en los argumentos de los parámetros.    \n",
    "El parámetro * *kwargs recibe los argumentos como un diccionario.      "
   ]
  },
  {
   "cell_type": "code",
   "execution_count": null,
   "metadata": {},
   "outputs": [],
   "source": [
    "def otra_mas (**kwargs):\n",
    "    for k,v in kwargs.items():\n",
    "        print(k,v)"
   ]
  },
  {
   "cell_type": "code",
   "execution_count": null,
   "metadata": {},
   "outputs": [],
   "source": [
    "diccionario = {\"nombre\":\"Rodrigo\", \"edad\":23, \"hermanos\":2}"
   ]
  },
  {
   "cell_type": "code",
   "execution_count": null,
   "metadata": {},
   "outputs": [],
   "source": [
    "otra_mas(**diccionario)"
   ]
  },
  {
   "attachments": {},
   "cell_type": "markdown",
   "metadata": {},
   "source": [
    "Los chicos se han dado cuenta de que el reparto de alquiler no es equitativo, porque las habitaciones no tienen el mismo tamaño, asi que deciden dividirlo proporcionalmente al tamaño de los cuartos. El cuarto de Belén ocupa el 50% del espacio, el de Sonia el 30% y el de Lore el 20%"
   ]
  },
  {
   "cell_type": "code",
   "execution_count": null,
   "metadata": {},
   "outputs": [],
   "source": [
    "habitaciones = {\"Belén\":0.5 , \"Sonia\":0.3,\"Lore\":0.2}\n",
    "p_alquiler = 3000"
   ]
  },
  {
   "cell_type": "code",
   "execution_count": null,
   "metadata": {},
   "outputs": [],
   "source": [
    "def alquiler (precio,**kwargs):\n",
    "    pago = {k:(v*precio) for k,v in kwargs.items()}\n",
    "    return pago"
   ]
  },
  {
   "cell_type": "code",
   "execution_count": null,
   "metadata": {},
   "outputs": [],
   "source": [
    "cuantopago = alquiler(p_alquiler,**habitaciones)\n",
    "cuantopago"
   ]
  },
  {
   "cell_type": "code",
   "execution_count": null,
   "metadata": {},
   "outputs": [],
   "source": [
    "def mialquiler (precio,**kwargs):\n",
    "    pago = {}\n",
    "    for key,value in kwargs.items():\n",
    "        pago[key] = value*precio\n",
    "    return pago"
   ]
  },
  {
   "cell_type": "code",
   "execution_count": null,
   "metadata": {},
   "outputs": [],
   "source": [
    "mialquiler(p_alquiler,**habitaciones)"
   ]
  },
  {
   "attachments": {},
   "cell_type": "markdown",
   "metadata": {},
   "source": [
    "Ahora lo complicamos un poco, queremos que Jaime pague el doble que Jose, y que Jose pague el triple que Pepe."
   ]
  },
  {
   "cell_type": "code",
   "execution_count": null,
   "metadata": {},
   "outputs": [],
   "source": [
    "habitaciones = {\"Jose\": 3, \"Jaime\":2,\"Pepe\":1}"
   ]
  },
  {
   "cell_type": "code",
   "execution_count": null,
   "metadata": {},
   "outputs": [],
   "source": [
    "def alq(precio, **kwargs):\n",
    "    \n",
    "    valores = [i for i in kwargs.values()] \n",
    "    nombres = [i for i in kwargs.keys()]\n",
    "    \n",
    "    sum_ud = 0\n",
    "    \n",
    "    for i in valores:\n",
    "        sum_ud += int(i)\n",
    "        \n",
    "    preciototal = precio/sum_ud\n",
    "  \n",
    "    #check1\n",
    "    print(preciototal)\n",
    "    \n",
    "    listapaga = [preciototal*i for i in valores]\n",
    "    \n",
    "    #check2\n",
    "    print(listapaga)\n",
    "    \n",
    "    finaldict = {}\n",
    "    \n",
    "    for i in range(0,len(kwargs)):\n",
    "        finaldict[nombres[i]] = listapaga[i]\n",
    "\n",
    "    #checkf\n",
    "    print(finaldict)\n",
    "    return(finaldict)\n",
    "    "
   ]
  },
  {
   "cell_type": "code",
   "execution_count": null,
   "metadata": {},
   "outputs": [],
   "source": [
    "alq(alquiler, **habitaciones)"
   ]
  },
  {
   "attachments": {},
   "cell_type": "markdown",
   "metadata": {},
   "source": [
    "## El orden importa\n",
    "El orden de los parámetros a la hora de definir una función importa...\n",
    "```python\n",
    "def ejemplo(arg1, arg2, *args, **kwargs)\n",
    "```\n"
   ]
  },
  {
   "attachments": {},
   "cell_type": "markdown",
   "metadata": {},
   "source": [
    "## 5 - Lambda\n",
    "Una función lambda es una función anónima, sin identificador, que puede declararse in situ. Dado que podemos usar funciones como argumentos y asignarlas a variables, la notación que posibilita la creación de funciones lambda es muy práctica en muchos casos.\n",
    "### Sintaxis de una lambda\n",
    "```python\n",
    "lambda <lista de parámetros>: <expresión de retorno>\n",
    "```\n",
    "### Ejemplos de lambda"
   ]
  },
  {
   "cell_type": "code",
   "execution_count": null,
   "metadata": {},
   "outputs": [],
   "source": [
    "lambda a,b: a+b # Suma\n",
    "lambda x: x **2 # cuadrado\n",
    "lambda x: x[0] # Devuelve el primer elemento del argumento\n",
    "lambda x, y: x if x>y else y # Devuelve el mayor"
   ]
  },
  {
   "attachments": {},
   "cell_type": "markdown",
   "metadata": {},
   "source": [
    "### Hagámoslo Fácil 🙃"
   ]
  },
  {
   "cell_type": "code",
   "execution_count": null,
   "metadata": {},
   "outputs": [],
   "source": [
    "suma = lambda a,b: a+b"
   ]
  },
  {
   "cell_type": "code",
   "execution_count": null,
   "metadata": {},
   "outputs": [],
   "source": [
    "suma (1,6)"
   ]
  },
  {
   "cell_type": "code",
   "execution_count": null,
   "metadata": {},
   "outputs": [],
   "source": [
    "b=2 #variable global"
   ]
  },
  {
   "cell_type": "code",
   "execution_count": null,
   "metadata": {},
   "outputs": [],
   "source": [
    "sum5 = lambda a,b=5: a+b #aquí b=5 está dentro de lambda, no afecta a nuestra variable global"
   ]
  },
  {
   "cell_type": "code",
   "execution_count": null,
   "metadata": {},
   "outputs": [],
   "source": [
    "sum5(1)"
   ]
  },
  {
   "cell_type": "code",
   "execution_count": null,
   "metadata": {},
   "outputs": [],
   "source": [
    "b"
   ]
  },
  {
   "cell_type": "code",
   "execution_count": null,
   "metadata": {},
   "outputs": [],
   "source": [
    "sum5(4,9) #Si especificamos de nuevo el argumento b, nos suma a + el b que acabaos de especificar"
   ]
  },
  {
   "cell_type": "code",
   "execution_count": null,
   "metadata": {},
   "outputs": [],
   "source": [
    "sum5(3)"
   ]
  },
  {
   "cell_type": "code",
   "execution_count": null,
   "metadata": {},
   "outputs": [],
   "source": [
    "maximo = lambda x, y: x if x>y else y"
   ]
  },
  {
   "cell_type": "code",
   "execution_count": null,
   "metadata": {},
   "outputs": [],
   "source": [
    "maximo(2341234,9876796)"
   ]
  },
  {
   "attachments": {},
   "cell_type": "markdown",
   "metadata": {},
   "source": [
    "También es posible usar estas funciones anónimas como argumentos en la llamada a otras funcoines. Por ejemplo, en una llamada a sorted() o list.sort() podemos usar una función lambda como argumento para el parámetro key:"
   ]
  },
  {
   "cell_type": "code",
   "execution_count": 38,
   "metadata": {},
   "outputs": [],
   "source": [
    "distancias = [(\"Madrid\", 331), (\"Córdoba\", 117), (\"Barcelona\",798)]"
   ]
  },
  {
   "cell_type": "code",
   "execution_count": 39,
   "metadata": {},
   "outputs": [
    {
     "data": {
      "text/plain": [
       "[('Barcelona', 798), ('Córdoba', 117), ('Madrid', 331)]"
      ]
     },
     "execution_count": 39,
     "metadata": {},
     "output_type": "execute_result"
    }
   ],
   "source": [
    "sorted(distancias) #Por defecto lo ordena por el primer elemento de cada tupla"
   ]
  },
  {
   "cell_type": "code",
   "execution_count": 40,
   "metadata": {},
   "outputs": [],
   "source": [
    "tupla1 = (\"Madrid\", 331)"
   ]
  },
  {
   "cell_type": "code",
   "execution_count": 41,
   "metadata": {},
   "outputs": [
    {
     "data": {
      "text/plain": [
       "'Madrid'"
      ]
     },
     "execution_count": 41,
     "metadata": {},
     "output_type": "execute_result"
    }
   ],
   "source": [
    "tupla1[0]"
   ]
  },
  {
   "cell_type": "code",
   "execution_count": 42,
   "metadata": {},
   "outputs": [],
   "source": [
    "orden_tuplas = lambda x: x[1]"
   ]
  },
  {
   "cell_type": "code",
   "execution_count": 43,
   "metadata": {},
   "outputs": [
    {
     "data": {
      "text/plain": [
       "331"
      ]
     },
     "execution_count": 43,
     "metadata": {},
     "output_type": "execute_result"
    }
   ],
   "source": [
    "orden_tuplas(tupla1)"
   ]
  },
  {
   "cell_type": "code",
   "execution_count": 44,
   "metadata": {},
   "outputs": [
    {
     "data": {
      "text/plain": [
       "[('Córdoba', 117), ('Madrid', 331), ('Barcelona', 798)]"
      ]
     },
     "execution_count": 44,
     "metadata": {},
     "output_type": "execute_result"
    }
   ],
   "source": [
    "#Ordenamos por la distancia, de menor a mayor by default \n",
    "sorted(distancias, key = lambda x: x[1])"
   ]
  },
  {
   "cell_type": "code",
   "execution_count": 45,
   "metadata": {},
   "outputs": [
    {
     "data": {
      "text/plain": [
       "[('Barcelona', 798), ('Madrid', 331), ('Córdoba', 117)]"
      ]
     },
     "execution_count": 45,
     "metadata": {},
     "output_type": "execute_result"
    }
   ],
   "source": [
    "#Ordenamos por distancia pero de mayor a menor, con reverse = True\n",
    "sorted(distancias, key=lambda x: x[1], reverse=True)"
   ]
  },
  {
   "cell_type": "code",
   "execution_count": null,
   "metadata": {},
   "outputs": [],
   "source": [
    "#Ordenamos alfabéticamente utilizando el primer elemento x[0]\n",
    "sorted(distancias, key = lambda x: x[0])"
   ]
  },
  {
   "cell_type": "code",
   "execution_count": null,
   "metadata": {},
   "outputs": [],
   "source": [
    "#Ordenamos alfabéticamente de final a principio utilizando reverse = True\n",
    "sorted(distancias, key=lambda x: x[0], reverse=True)"
   ]
  },
  {
   "cell_type": "code",
   "execution_count": null,
   "metadata": {},
   "outputs": [],
   "source": [
    "sorted(distancias, key=lambda x,j=0: x[j], reverse=True)"
   ]
  },
  {
   "attachments": {},
   "cell_type": "markdown",
   "metadata": {},
   "source": [
    "Por último, si queremos devolver como resultado de una función a otra función podemos usar cualquier función conocida en el ámbito de la función que realiza el retorno, o usar una función lambda:"
   ]
  },
  {
   "cell_type": "code",
   "execution_count": null,
   "metadata": {},
   "outputs": [],
   "source": [
    "def suma5_otra (num,num2):\n",
    "    return sum(num, num2)"
   ]
  },
  {
   "cell_type": "code",
   "execution_count": null,
   "metadata": {},
   "outputs": [],
   "source": [
    "def comparaciones (tipo):\n",
    "    def mayor (a,b):\n",
    "        if a>b:\n",
    "            return a\n",
    "        else:\n",
    "            return b\n",
    "        \n",
    "        \n",
    "    if tipo == \"mayor\":\n",
    "        return mayor\n",
    "    \n",
    "    \n",
    "    elif tipo == \"menor\":\n",
    "        return lambda x,y:x if x<y else y"
   ]
  },
  {
   "cell_type": "code",
   "execution_count": null,
   "metadata": {},
   "outputs": [],
   "source": [
    "comparaciones(\"mayor\")(6,5)"
   ]
  },
  {
   "cell_type": "code",
   "execution_count": null,
   "metadata": {},
   "outputs": [],
   "source": [
    "comparaciones(\"menor\")(6,5)"
   ]
  },
  {
   "attachments": {},
   "cell_type": "markdown",
   "metadata": {},
   "source": [
    "## Recursividad\n",
    "Se denomina llamada recursiva (o recursividad), a aquellas funciones que en su algoritmo, hacen referencia sí misma.\n",
    "\n",
    "Las llamadas recursivas suelen ser muy útiles en casos muy puntuales, pero debido a su gran factibilidad de caer en iteraciones infinitas, deben extremarse las medidas preventivas adecuadas y, solo utilizarse cuando sea estrictamente necesario y no exista una forma alternativa viable, que resuelva el problema evitando la recursividad.\n",
    "\n",
    "Python admite las llamadas recursivas, permitiendo a una función, llamarse a sí misma, de igual forma que lo hace cuando llama a otra función."
   ]
  },
  {
   "cell_type": "code",
   "execution_count": 46,
   "metadata": {},
   "outputs": [],
   "source": [
    "def jueguito (intento =1):\n",
    "    respuesta = input (\"\\n¿Qué lenguaje es que más mola?  \")\n",
    "    if \"python\" not in respuesta.lower():\n",
    "        if intento < 3:\n",
    "            print (\"\\nFALLASTEEEEE!!!!!. Inténtalo de nuevo\")\n",
    "            intento +=1\n",
    "            jueguito(intento) # Llamada recursiva\n",
    "        else:\n",
    "            print(\"\\n ¡Perdiste!\")\n",
    "    \n",
    "    else:\n",
    "        print (\"Claro que sí!!!🧠\")\n",
    "            "
   ]
  },
  {
   "cell_type": "code",
   "execution_count": 48,
   "metadata": {},
   "outputs": [
    {
     "name": "stdout",
     "output_type": "stream",
     "text": [
      "Claro que sí!!!🧠\n"
     ]
    }
   ],
   "source": [
    "jueguito()"
   ]
  },
  {
   "cell_type": "code",
   "execution_count": 49,
   "metadata": {},
   "outputs": [
    {
     "name": "stdout",
     "output_type": "stream",
     "text": [
      "\n",
      "FALLASTEEEEE!!!!!. Inténtalo de nuevo\n",
      "\n",
      "FALLASTEEEEE!!!!!. Inténtalo de nuevo\n",
      "\n",
      " ¡Perdiste!\n"
     ]
    }
   ],
   "source": [
    "jueguito()"
   ]
  },
  {
   "cell_type": "code",
   "execution_count": null,
   "id": "0c5ebef7",
   "metadata": {},
   "outputs": [],
   "source": []
  }
 ],
 "metadata": {
  "kernelspec": {
   "display_name": "gamma",
   "language": "python",
   "name": "python3"
  },
  "language_info": {
   "codemirror_mode": {
    "name": "ipython",
    "version": 3
   },
   "file_extension": ".py",
   "mimetype": "text/x-python",
   "name": "python",
   "nbconvert_exporter": "python",
   "pygments_lexer": "ipython3",
   "version": "3.9.16"
  },
  "toc": {
   "base_numbering": 1,
   "nav_menu": {},
   "number_sections": true,
   "sideBar": true,
   "skip_h1_title": true,
   "title_cell": "Table of Contents",
   "title_sidebar": "Contents",
   "toc_cell": true,
   "toc_position": {},
   "toc_section_display": true,
   "toc_window_display": false
  },
  "varInspector": {
   "cols": {
    "lenName": 16,
    "lenType": 16,
    "lenVar": 40
   },
   "kernels_config": {
    "python": {
     "delete_cmd_postfix": "",
     "delete_cmd_prefix": "del ",
     "library": "var_list.py",
     "varRefreshCmd": "print(var_dic_list())"
    },
    "r": {
     "delete_cmd_postfix": ") ",
     "delete_cmd_prefix": "rm(",
     "library": "var_list.r",
     "varRefreshCmd": "cat(var_dic_list()) "
    }
   },
   "types_to_exclude": [
    "module",
    "function",
    "builtin_function_or_method",
    "instance",
    "_Feature"
   ],
   "window_display": false
  }
 },
 "nbformat": 4,
 "nbformat_minor": 5
}
