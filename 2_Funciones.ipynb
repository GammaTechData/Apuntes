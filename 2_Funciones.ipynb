{
 "cells": [
  {
   "cell_type": "markdown",
   "id": "ab82de2a",
   "metadata": {},
   "source": [
    "# FUNCIONES"
   ]
  },
  {
   "cell_type": "markdown",
   "id": "4fd437a4",
   "metadata": {},
   "source": [
    "### 1 - Programación funcional\n",
    "\n",
    "Según Wikipedia:\n",
    "\n",
    "*“Python es un lenguaje de programación interpretado cuya filosofía hace hincapié en la legibilidad de su código. Se trata de un lenguaje de programación multiparadigma, ya que soporta orientación a objetos, programación imperativa y programación funcional.”*\n",
    "\n",
    "Quiere decir que acepta diversas formar de trabajar con el lenguaje. Básicamente existen 3 paradigmas predominantes, o dicho de otra manera, 3 formas de organizar y escribir tu código.\n",
    "\n",
    "- **Programación imperativa (estructurada)**: el código será ejecutado desde el principio del fichero al final sin seguir ningún tipo de desviación. Su mayor ventaja radica en su simplicidad y poco peso. Su peligrosidad es el código espagueti, archivos con centenares o miles de líneas donde solo unos pocos seres humanos son capaces de modificar y salir victoriosos.\n",
    "\n",
    "- **Programación orientada a objetos (OOP o Object Oriented Programming)**: donde se encapsulan las variables y funciones en pequeños módulos capaces de clonarse y modificarse. Su punto fuerte es la capacidad de re-utilización y aislamiento para evitar problemas con otras funcionalidades. La parte negativa recae en la complejidad de crear buenos objetos y la depuración.\n",
    "\n",
    "- **Programación funcional (FP o Functional programming)**: donde el código se reparte en sencillas funciones capaces de ser invocadas con variables u otras funciones. Su facilidad de uso por atomicidad logra un mantenimiento sólido y compatible con casi cualquier lenguaje. Además su inmutabilidad de variables evita gran parte de los problemas que si sufre la programación orientada a objetos."
   ]
  },
  {
   "cell_type": "markdown",
   "id": "d5b40bf7",
   "metadata": {},
   "source": [
    "## Funciones creadas"
   ]
  },
  {
   "cell_type": "code",
   "execution_count": 1,
   "id": "be0cf168",
   "metadata": {},
   "outputs": [],
   "source": [
    "def primerfuncion (): #Esto es una función def nombre_funcion ():\n",
    "\n",
    "    pass #Esto es lo que hace la función. En este caso nada"
   ]
  },
  {
   "cell_type": "markdown",
   "id": "1d81dcbd",
   "metadata": {},
   "source": [
    "## Funciones Built-in "
   ]
  },
  {
   "cell_type": "markdown",
   "id": "7c3d0272",
   "metadata": {},
   "source": [
    "El intérprete de Python tiene una serie de funciones y tipos incluidos en él que están siempre disponibles. Están listados [aquí](https://docs.python.org/es/3/library/functions.html?highlight=built) en orden alfabético."
   ]
  },
  {
   "cell_type": "code",
   "execution_count": 2,
   "id": "8c86feb5",
   "metadata": {},
   "outputs": [
    {
     "name": "stdout",
     "output_type": "stream",
     "text": [
      "['BaseException', 'Ellipsis', 'Exception', 'False', 'GeneratorExit', 'KeyboardInterrupt', 'None', 'NotImplemented', 'StopAsyncIteration', 'StopIteration', 'SystemExit', 'True', 'abs', 'all', 'any', 'ascii', 'bin', 'bool', 'breakpoint', 'bytearray', 'bytes', 'callable', 'chr', 'classmethod', 'compile', 'complex', 'copyright', 'credits', 'delattr', 'dict', 'dir', 'display', 'divmod', 'enumerate', 'eval', 'exec', 'execfile', 'filter', 'float', 'format', 'frozenset', 'get_ipython', 'getattr', 'globals', 'hasattr', 'hash', 'help', 'hex', 'id', 'input', 'int', 'isinstance', 'issubclass', 'iter', 'len', 'license', 'list', 'locals', 'map', 'max', 'memoryview', 'min', 'next', 'object', 'oct', 'open', 'ord', 'pow', 'print', 'property', 'range', 'repr', 'reversed', 'round', 'runfile', 'set', 'setattr', 'slice', 'sorted', 'staticmethod', 'str', 'sum', 'super', 'tuple', 'type', 'vars', 'zip']\n"
     ]
    }
   ],
   "source": [
    "# Consultamos las funciones Built-in disponibles de Python\n",
    "funciones = []\n",
    "for funcion in dir(__builtins__):\n",
    "    #imprimimos solo lo que son funciones\n",
    "    if funcion[0] != '_' and 'Error' not in funcion and 'Warning' not in funcion:\n",
    "        funciones.append(funcion)\n",
    "print(funciones)"
   ]
  },
  {
   "cell_type": "markdown",
   "id": "b4b11e8b",
   "metadata": {},
   "source": [
    "![](https://i.pinimg.com/736x/27/cd/2c/27cd2cdaa4df0e803381bc151ffa5ee8.jpg)"
   ]
  },
  {
   "cell_type": "code",
   "execution_count": 8,
   "id": "8c8dbd80",
   "metadata": {},
   "outputs": [],
   "source": [
    "#help(reversed)"
   ]
  },
  {
   "cell_type": "markdown",
   "id": "14da5a30",
   "metadata": {},
   "source": [
    "## Extraer el código fuente de una función\n",
    "Ya que hablamos de las built-in, por curiosidad, si necesitamos extraer el código de una función escrita anteriormente podemos hacerlo así a modo de curiosidad:\n"
   ]
  },
  {
   "cell_type": "code",
   "execution_count": 9,
   "id": "b64cf867",
   "metadata": {},
   "outputs": [
    {
     "name": "stdout",
     "output_type": "stream",
     "text": [
      "def primerfuncion (): #Esto es una función def nombre_funcion ():\n",
      "\n",
      "    pass #Esto es lo que hace la función. En este caso nada\n",
      "\n"
     ]
    }
   ],
   "source": [
    "import inspect\n",
    "print(inspect.getsource(primerfuncion))"
   ]
  },
  {
   "cell_type": "markdown",
   "id": "414f0f0a",
   "metadata": {},
   "source": [
    "En las built-in functions no podemos extraer el código con inspect,😭 ya que Python en sí mismo está escrito en C... la función Print tiene este aspecto 👇🏻"
   ]
  },
  {
   "cell_type": "markdown",
   "id": "e298ea14",
   "metadata": {},
   "source": [
    "```C\n",
    "static PyObject *\n",
    "builtin_print(PyObject *self, PyObject *args, PyObject *kwds)\n",
    "{\n",
    "    static char *kwlist[] = {\"sep\", \"end\", \"file\", 0};\n",
    "    static PyObject *dummy_args = NULL;\n",
    "    static PyObject *unicode_newline = NULL, *unicode_space = NULL;\n",
    "    static PyObject *str_newline = NULL, *str_space = NULL;\n",
    "    PyObject *newline, *space;\n",
    "    PyObject *sep = NULL, *end = NULL, *file = NULL;\n",
    "    int i, err, use_unicode = 0;\n",
    "\n",
    "    if (dummy_args == NULL) {\n",
    "        if (!(dummy_args = PyTuple_New(0)))\n",
    "            return NULL;\n",
    "    }\n",
    "    if (str_newline == NULL) {\n",
    "        str_newline = PyString_FromString(\"\\n\");\n",
    "        if (str_newline == NULL)\n",
    "            return NULL;\n",
    "        str_space = PyString_FromString(\" \");\n",
    "        if (str_space == NULL) {\n",
    "            Py_CLEAR(str_newline);\n",
    "            return NULL;\n",
    "        }\n",
    "#ifdef Py_USING_UNICODE\n",
    "        unicode_newline = PyUnicode_FromString(\"\\n\");\n",
    "        if (unicode_newline == NULL) {\n",
    "            Py_CLEAR(str_newline);\n",
    "            Py_CLEAR(str_space);\n",
    "            return NULL;\n",
    "        }\n",
    "        unicode_space = PyUnicode_FromString(\" \");\n",
    "        if (unicode_space == NULL) {\n",
    "            Py_CLEAR(str_newline);\n",
    "            Py_CLEAR(str_space);\n",
    "            Py_CLEAR(unicode_space);\n",
    "            return NULL;\n",
    "        }\n",
    "#endif\n",
    "    }\n",
    "    if (!PyArg_ParseTupleAndKeywords(dummy_args, kwds, \"|OOO:print\",\n",
    "                                     kwlist, &sep, &end, &file))\n",
    "        return NULL;\n",
    "    if (file == NULL || file == Py_None) {\n",
    "        file = PySys_GetObject(\"stdout\");\n",
    "        /* sys.stdout may be None when FILE* stdout isn't connected */\n",
    "        if (file == Py_None)\n",
    "            Py_RETURN_NONE;\n",
    "    }\n",
    "    if (sep == Py_None) {\n",
    "        sep = NULL;\n",
    "    }\n",
    "    else if (sep) {\n",
    "        if (PyUnicode_Check(sep)) {\n",
    "            use_unicode = 1;\n",
    "        }\n",
    "        else if (!PyString_Check(sep)) {\n",
    "            PyErr_Format(PyExc_TypeError,\n",
    "                         \"sep must be None, str or unicode, not %.200s\",\n",
    "                         sep->ob_type->tp_name);\n",
    "            return NULL;\n",
    "        }\n",
    "    }\n",
    "    if (end == Py_None)\n",
    "        end = NULL;\n",
    "    else if (end) {\n",
    "        if (PyUnicode_Check(end)) {\n",
    "            use_unicode = 1;\n",
    "        }\n",
    "        else if (!PyString_Check(end)) {\n",
    "            PyErr_Format(PyExc_TypeError,\n",
    "                         \"end must be None, str or unicode, not %.200s\",\n",
    "                         end->ob_type->tp_name);\n",
    "            return NULL;\n",
    "        }\n",
    "    }\n",
    "\n",
    "    if (!use_unicode) {\n",
    "        for (i = 0; i < PyTuple_Size(args); i++) {\n",
    "            if (PyUnicode_Check(PyTuple_GET_ITEM(args, i))) {\n",
    "                use_unicode = 1;\n",
    "                break;\n",
    "            }\n",
    "        }\n",
    "    }\n",
    "    if (use_unicode) {\n",
    "        newline = unicode_newline;\n",
    "        space = unicode_space;\n",
    "    }\n",
    "    else {\n",
    "        newline = str_newline;\n",
    "        space = str_space;\n",
    "    }\n",
    "\n",
    "    for (i = 0; i < PyTuple_Size(args); i++) {\n",
    "        if (i > 0) {\n",
    "            if (sep == NULL)\n",
    "                err = PyFile_WriteObject(space, file,\n",
    "                                         Py_PRINT_RAW);\n",
    "            else\n",
    "                err = PyFile_WriteObject(sep, file,\n",
    "                                         Py_PRINT_RAW);\n",
    "            if (err)\n",
    "                return NULL;\n",
    "        }\n",
    "        err = PyFile_WriteObject(PyTuple_GetItem(args, i), file,\n",
    "                                 Py_PRINT_RAW);\n",
    "        if (err)\n",
    "            return NULL;\n",
    "    }\n",
    "\n",
    "    if (end == NULL)\n",
    "        err = PyFile_WriteObject(newline, file, Py_PRINT_RAW);\n",
    "    else\n",
    "        err = PyFile_WriteObject(end, file, Py_PRINT_RAW);\n",
    "    if (err)\n",
    "        return NULL;\n",
    "\n",
    "    Py_RETURN_NONE;\n",
    "}\n",
    "```"
   ]
  },
  {
   "cell_type": "markdown",
   "id": "a9ab971d",
   "metadata": {},
   "source": [
    "![](https://media.tenor.com/w-PCA2wkMQEAAAAM/mind-blown-shocked.gif)"
   ]
  },
  {
   "cell_type": "markdown",
   "id": "ed7d2838",
   "metadata": {},
   "source": [
    "## 2 - Sintaxis de funciones\n",
    "\n",
    "Para definir una función:\n",
    "```python\n",
    "\n",
    "def nombre_funcion(argumento/s de entrada):\n",
    "    # los dos puntos y la indentacion implican estar en la funcion\n",
    "    realiza un accion\n",
    "    return()   # devuelven un/os valor/es\n",
    "\n",
    "```\n",
    "\n",
    "Ejecución de la función: \n",
    "```python\n",
    "nombre_de_la_función(argumento1, argumento2, ...)\n",
    "```\n",
    "o, si quieres guardar el resultado en una variable: 💾\n",
    "```python\n",
    "resultado = nombre_de_la_función(argumento1, argumento2, ...)\n",
    "```"
   ]
  },
  {
   "cell_type": "markdown",
   "id": "3f944f5e",
   "metadata": {},
   "source": [
    "## 3 - Parámetros vs Argumentos\n",
    "\n",
    "Los parámetros formales para una función se enumeran en la declaración de la función y se utilizan en el cuerpo de la definición de la función.\n",
    "\n",
    "Un argumento es lo que se usa haciendo referencia a los parámetros. Cuando escribe una llamada de función, los argumentos se enumeran entre paréntesis después del nombre de la función. Cuando se ejecuta la llamada a la función, los argumentos se insertan para los parámetros.\n",
    "\n",
    "Digamos entonces que, los parámetros, son esas variables \"imaginarias\" que van a tener el mismo nombre en la definición y en el cuerpo de la función.       \n",
    "Los argumentos son los DATOS REALES que utilizamos cuando llamamos a la función."
   ]
  },
  {
   "cell_type": "code",
   "execution_count": 10,
   "id": "214d647e",
   "metadata": {},
   "outputs": [],
   "source": [
    "def suma (num1,num2): #num1 y num2 son los parámetros de la función\n",
    "    return num1 + num2"
   ]
  },
  {
   "cell_type": "code",
   "execution_count": 11,
   "id": "1c8c0264",
   "metadata": {},
   "outputs": [
    {
     "data": {
      "text/plain": [
       "5"
      ]
     },
     "execution_count": 11,
     "metadata": {},
     "output_type": "execute_result"
    }
   ],
   "source": [
    "suma(2,3) #2 y 3 son los argumentos de la función"
   ]
  },
  {
   "cell_type": "markdown",
   "id": "3e671ea9",
   "metadata": {},
   "source": [
    "## 3.1 - Funciones que no tienen parámetros"
   ]
  },
  {
   "cell_type": "code",
   "execution_count": 12,
   "id": "27790cc6",
   "metadata": {},
   "outputs": [],
   "source": [
    "def saluda():\n",
    "    return \"Cómo están los máquinas??\""
   ]
  },
  {
   "cell_type": "code",
   "execution_count": 13,
   "id": "54432d58",
   "metadata": {},
   "outputs": [
    {
     "data": {
      "text/plain": [
       "'Cómo están los máquinas??'"
      ]
     },
     "execution_count": 13,
     "metadata": {},
     "output_type": "execute_result"
    }
   ],
   "source": [
    "saluda()"
   ]
  },
  {
   "cell_type": "markdown",
   "id": "c4c38f6a",
   "metadata": {},
   "source": [
    "## 3.2 -  Funciones que no tienen return\n",
    "Hacen \"cosas\" pero no devuelven nada... y si una función no tiene return, entonces devuelve:         \n",
    "```python\n",
    "None\n",
    "```\n"
   ]
  },
  {
   "cell_type": "code",
   "execution_count": 18,
   "id": "a96b2fd4",
   "metadata": {},
   "outputs": [],
   "source": [
    "def suma (num1,num2):\n",
    "    num1 + num2\n",
    "    print(num1 + num2)"
   ]
  },
  {
   "cell_type": "code",
   "execution_count": 19,
   "id": "c773631c",
   "metadata": {},
   "outputs": [
    {
     "name": "stdout",
     "output_type": "stream",
     "text": [
      "5\n"
     ]
    }
   ],
   "source": [
    "suma(2,3)"
   ]
  },
  {
   "cell_type": "code",
   "execution_count": 20,
   "id": "86cbfdb3",
   "metadata": {},
   "outputs": [
    {
     "name": "stdout",
     "output_type": "stream",
     "text": [
      "5\n"
     ]
    },
    {
     "data": {
      "text/plain": [
       "NoneType"
      ]
     },
     "execution_count": 20,
     "metadata": {},
     "output_type": "execute_result"
    }
   ],
   "source": [
    "type (suma(2,3))"
   ]
  },
  {
   "cell_type": "markdown",
   "id": "23a7354c",
   "metadata": {},
   "source": [
    "## Vamos a hacer funciones 🤖🐍"
   ]
  },
  {
   "cell_type": "code",
   "execution_count": 21,
   "id": "f2839fb7",
   "metadata": {},
   "outputs": [],
   "source": [
    "def saludo(name):\n",
    "    return \"Hola \"+name"
   ]
  },
  {
   "cell_type": "code",
   "execution_count": 22,
   "id": "4ed9d88c",
   "metadata": {},
   "outputs": [
    {
     "data": {
      "text/plain": [
       "'Hola a los máquinas'"
      ]
     },
     "execution_count": 22,
     "metadata": {},
     "output_type": "execute_result"
    }
   ],
   "source": [
    "saludo(\"a los máquinas\")"
   ]
  },
  {
   "cell_type": "code",
   "execution_count": 24,
   "id": "c7e6c31a",
   "metadata": {},
   "outputs": [
    {
     "data": {
      "text/plain": [
       "'Hola Pepe'"
      ]
     },
     "execution_count": 24,
     "metadata": {},
     "output_type": "execute_result"
    }
   ],
   "source": [
    "nombre = \"Pepe\"\n",
    "saludo(nombre)"
   ]
  },
  {
   "cell_type": "code",
   "execution_count": 25,
   "id": "e3cf5157",
   "metadata": {},
   "outputs": [],
   "source": [
    "def saludo2(name):\n",
    "    print (\"Hola \"+name)"
   ]
  },
  {
   "cell_type": "code",
   "execution_count": 26,
   "id": "38ef2c69",
   "metadata": {},
   "outputs": [
    {
     "name": "stdout",
     "output_type": "stream",
     "text": [
      "Hola Pepe\n"
     ]
    }
   ],
   "source": [
    "saludo2(nombre)"
   ]
  },
  {
   "cell_type": "code",
   "execution_count": 37,
   "id": "98a32bf2",
   "metadata": {},
   "outputs": [
    {
     "name": "stdout",
     "output_type": "stream",
     "text": [
      "Hola Pepe\n"
     ]
    }
   ],
   "source": [
    "misaludo = saludo2(nombre)"
   ]
  },
  {
   "cell_type": "code",
   "execution_count": 39,
   "id": "23b65d24",
   "metadata": {},
   "outputs": [
    {
     "name": "stdout",
     "output_type": "stream",
     "text": [
      "None\n"
     ]
    }
   ],
   "source": [
    "#print(str(misaludo))"
   ]
  },
  {
   "cell_type": "code",
   "execution_count": 40,
   "id": "a74e9c7b",
   "metadata": {},
   "outputs": [
    {
     "data": {
      "text/plain": [
       "NoneType"
      ]
     },
     "execution_count": 40,
     "metadata": {},
     "output_type": "execute_result"
    }
   ],
   "source": [
    "type(misaludo)"
   ]
  },
  {
   "cell_type": "markdown",
   "id": "21facc8b",
   "metadata": {},
   "source": [
    "***🐍🧠HANDS ON🧠🐍***\n",
    "\n",
    "Me dan una hora con el siguiente formato: \"04:52\", minutos y segundos.Corresponde con un tiempo de un corredor en una carrera y tengo que calcular el número *entero* de segundos.  "
   ]
  },
  {
   "cell_type": "code",
   "execution_count": 42,
   "id": "20e88c1a",
   "metadata": {},
   "outputs": [
    {
     "data": {
      "text/plain": [
       "str"
      ]
     },
     "execution_count": 42,
     "metadata": {},
     "output_type": "execute_result"
    }
   ],
   "source": [
    "t='04:52' #es string en formato minutos y segs.\n",
    "type(t)"
   ]
  },
  {
   "cell_type": "code",
   "execution_count": 71,
   "id": "8acb1e46",
   "metadata": {},
   "outputs": [],
   "source": [
    "#Resolvemos\n",
    "def tiempo_segundos(tiempo):\n",
    "    #partimos la string en minutos y segundos\n",
    "    tiempo.split(':')\n",
    "    minutos = int(tiempo.split(':')[0]) #los hemos convertido a enteros\n",
    "    segundos = int(tiempo.split(':')[1])\n",
    "    total_segundos = (minutos*60) + segundos\n",
    "    \n",
    "    return total_segundos"
   ]
  },
  {
   "cell_type": "code",
   "execution_count": 72,
   "id": "442a2fa8",
   "metadata": {},
   "outputs": [],
   "source": [
    "#Resolvemos\n",
    "def tiempo_segundos(tiempo):\n",
    "    return ((int(tiempo.split(':')[0]))*60) + int(tiempo.split(':')[1])"
   ]
  },
  {
   "cell_type": "code",
   "execution_count": 70,
   "id": "afcc1182",
   "metadata": {},
   "outputs": [
    {
     "data": {
      "text/plain": [
       "292"
      ]
     },
     "execution_count": 70,
     "metadata": {},
     "output_type": "execute_result"
    }
   ],
   "source": [
    "tiempo_segundos(t)"
   ]
  },
  {
   "cell_type": "markdown",
   "id": "e59f0aab",
   "metadata": {},
   "source": [
    "Tenemos mucho código para UNA sola funcionalidad, que podríamos REUTILIZAR para diferentes casos, que pasa si tenemos que hacer la conversión para todos los tiempos de los corredores?\n",
    "\n",
    "**PARA ESTO ESTÁN LAS FUNCIONES**💣💣\n",
    "\n",
    "Vamos a convertirlo en una función que reciba como argumento el tiempo y devuelva el número de segundos."
   ]
  },
  {
   "cell_type": "code",
   "execution_count": null,
   "id": "d7a58ede",
   "metadata": {},
   "outputs": [],
   "source": [
    "#def segundos (marca):\n",
    " #   return int(marca.split(\":\")[0])*60 + int(marca.split(\":\")[1])"
   ]
  },
  {
   "cell_type": "markdown",
   "id": "54b34e9e",
   "metadata": {},
   "source": [
    "Vamos a crear una lista de tiempos de manera aleatoria:"
   ]
  },
  {
   "cell_type": "code",
   "execution_count": 76,
   "id": "1da5ef2e",
   "metadata": {},
   "outputs": [
    {
     "name": "stdout",
     "output_type": "stream",
     "text": [
      "['29:41', '11:31', '15:50', '17:19', '15:45', '25:52', '11:50', '17:29', '12:25', '12:16', '11:31', '1:25', '55:25', '28:37', '45:23', '17:46', '29:41', '38:58', '33:58', '30:47', '30:52', '25:34', '53:40', '17:49', '44:54', '48:31', '39:29', '5:25', '30:23', '22:47', '15:19', '57:25', '25:11', '13:47', '43:53', '43:28', '44:46', '43:40', '43:26', '6:10', '29:11', '58:38', '58:40', '9:43', '27:58', '30:38', '18:13', '43:41', '3:12', '6:42', '16:33', '42:23', '37:59', '54:42', '20:11', '19:11', '11:37', '18:21', '44:42', '35:45', '42:53', '58:13', '35:54', '43:57', '19:59', '6:32', '10:39', '34:26', '30:43', '44:41', '28:28', '50:20', '2:43', '9:54', '18:30', '15:26', '59:35', '9:44', '37:53', '14:42', '57:11', '24:17', '59:26', '45:39', '19:12', '40:51', '43:48', '33:23', '48:17', '57:15', '46:54', '15:44', '28:56', '58:11', '50:32', '26:17', '46:43', '54:52', '42:48', '56:58', '19:26', '40:39', '43:26', '49:14', '36:17', '59:52', '12:37', '26:20', '44:33', '15:55', '15:54', '52:56', '17:55', '15:27', '51:18', '34:22', '17:29', '21:12', '38:18', '27:16', '32:48', '46:52', '52:30', '12:34', '39:16', '16:12', '37:50', '9:18', '22:10', '47:32', '38:33', '2:16', '32:22', '27:27', '11:57', '47:15', '48:14', '37:22', '30:12', '44:59', '36:31', '29:37', '40:29', '7:46', '51:12', '26:58', '25:15', '33:34', '12:53', '29:13', '2:53', '16:30', '8:39', '59:28', '25:56', '43:31', '4:53', '28:26', '4:51', '17:39', '27:59', '55:32', '52:31', '26:46', '2:24', '8:33', '14:10', '45:39', '32:38', '17:19', '25:10', '1:55', '20:22', '32:29', '11:14', '25:53', '16:14', '31:27', '55:18', '12:25', '16:14', '39:52', '3:36', '30:35', '8:24', '7:40', '35:54', '21:20', '35:43', '20:49', '18:32', '25:20', '13:46', '7:58', '42:55', '36:20', '17:32', '22:57', '11:55', '13:56']\n"
     ]
    }
   ],
   "source": [
    "import random\n",
    "marcas = []\n",
    "for i in range(200):\n",
    "    marcas.append(str(random.randint(1,59))+\":\"+str(random.randint(10,59)))\n",
    "\n",
    "print(marcas)"
   ]
  },
  {
   "cell_type": "code",
   "execution_count": 77,
   "id": "22d52372",
   "metadata": {},
   "outputs": [
    {
     "name": "stdout",
     "output_type": "stream",
     "text": [
      "1781\n",
      "691\n",
      "950\n",
      "1039\n",
      "945\n",
      "1552\n",
      "710\n",
      "1049\n",
      "745\n",
      "736\n",
      "691\n",
      "85\n",
      "3325\n",
      "1717\n",
      "2723\n",
      "1066\n",
      "1781\n",
      "2338\n",
      "2038\n",
      "1847\n",
      "1852\n",
      "1534\n",
      "3220\n",
      "1069\n",
      "2694\n",
      "2911\n",
      "2369\n",
      "325\n",
      "1823\n",
      "1367\n",
      "919\n",
      "3445\n",
      "1511\n",
      "827\n",
      "2633\n",
      "2608\n",
      "2686\n",
      "2620\n",
      "2606\n",
      "370\n",
      "1751\n",
      "3518\n",
      "3520\n",
      "583\n",
      "1678\n",
      "1838\n",
      "1093\n",
      "2621\n",
      "192\n",
      "402\n",
      "993\n",
      "2543\n",
      "2279\n",
      "3282\n",
      "1211\n",
      "1151\n",
      "697\n",
      "1101\n",
      "2682\n",
      "2145\n",
      "2573\n",
      "3493\n",
      "2154\n",
      "2637\n",
      "1199\n",
      "392\n",
      "639\n",
      "2066\n",
      "1843\n",
      "2681\n",
      "1708\n",
      "3020\n",
      "163\n",
      "594\n",
      "1110\n",
      "926\n",
      "3575\n",
      "584\n",
      "2273\n",
      "882\n",
      "3431\n",
      "1457\n",
      "3566\n",
      "2739\n",
      "1152\n",
      "2451\n",
      "2628\n",
      "2003\n",
      "2897\n",
      "3435\n",
      "2814\n",
      "944\n",
      "1736\n",
      "3491\n",
      "3032\n",
      "1577\n",
      "2803\n",
      "3292\n",
      "2568\n",
      "3418\n",
      "1166\n",
      "2439\n",
      "2606\n",
      "2954\n",
      "2177\n",
      "3592\n",
      "757\n",
      "1580\n",
      "2673\n",
      "955\n",
      "954\n",
      "3176\n",
      "1075\n",
      "927\n",
      "3078\n",
      "2062\n",
      "1049\n",
      "1272\n",
      "2298\n",
      "1636\n",
      "1968\n",
      "2812\n",
      "3150\n",
      "754\n",
      "2356\n",
      "972\n",
      "2270\n",
      "558\n",
      "1330\n",
      "2852\n",
      "2313\n",
      "136\n",
      "1942\n",
      "1647\n",
      "717\n",
      "2835\n",
      "2894\n",
      "2242\n",
      "1812\n",
      "2699\n",
      "2191\n",
      "1777\n",
      "2429\n",
      "466\n",
      "3072\n",
      "1618\n",
      "1515\n",
      "2014\n",
      "773\n",
      "1753\n",
      "173\n",
      "990\n",
      "519\n",
      "3568\n",
      "1556\n",
      "2611\n",
      "293\n",
      "1706\n",
      "291\n",
      "1059\n",
      "1679\n",
      "3332\n",
      "3151\n",
      "1606\n",
      "144\n",
      "513\n",
      "850\n",
      "2739\n",
      "1958\n",
      "1039\n",
      "1510\n",
      "115\n",
      "1222\n",
      "1949\n",
      "674\n",
      "1553\n",
      "974\n",
      "1887\n",
      "3318\n",
      "745\n",
      "974\n",
      "2392\n",
      "216\n",
      "1835\n",
      "504\n",
      "460\n",
      "2154\n",
      "1280\n",
      "2143\n",
      "1249\n",
      "1112\n",
      "1520\n",
      "826\n",
      "478\n",
      "2575\n",
      "2180\n",
      "1052\n",
      "1377\n",
      "715\n",
      "836\n"
     ]
    }
   ],
   "source": [
    "for marca in marcas:\n",
    "    print(tiempo_segundos(marca))"
   ]
  },
  {
   "cell_type": "markdown",
   "id": "96337d03",
   "metadata": {},
   "source": [
    "## Parámetros por defecto"
   ]
  },
  {
   "cell_type": "code",
   "execution_count": null,
   "id": "a3593a29",
   "metadata": {},
   "outputs": [],
   "source": [
    "def saludame (nombre, idioma = \"es\"):\n",
    "    if idioma == \"es\":\n",
    "        return f\"Qué pasa {nombre}!\"\n",
    "    elif idioma == \"en\":\n",
    "        return f\"What's uuuuup {nombre}\"\n",
    "    else:\n",
    "        return f\"No te entiendo\""
   ]
  },
  {
   "cell_type": "code",
   "execution_count": null,
   "id": "ae635a91",
   "metadata": {},
   "outputs": [],
   "source": [
    "saludame(\"Rodrigo\", \"es\")"
   ]
  },
  {
   "cell_type": "code",
   "execution_count": null,
   "id": "499d4147",
   "metadata": {},
   "outputs": [],
   "source": [
    "saludame(\"Eva\", \"en\")"
   ]
  },
  {
   "cell_type": "code",
   "execution_count": null,
   "id": "8635d011",
   "metadata": {},
   "outputs": [],
   "source": [
    "saludame(\"Juana\", \"fr\")"
   ]
  },
  {
   "cell_type": "code",
   "execution_count": null,
   "id": "2d497043",
   "metadata": {},
   "outputs": [],
   "source": [
    "saludame(\"Juana\")#sin poner argumento idioma"
   ]
  },
  {
   "cell_type": "code",
   "execution_count": null,
   "id": "8c9f0f41",
   "metadata": {},
   "outputs": [],
   "source": [
    "saludame(idioma = \"en\")"
   ]
  },
  {
   "cell_type": "code",
   "execution_count": null,
   "id": "d15054e2",
   "metadata": {},
   "outputs": [],
   "source": [
    "saludame(\"en\", \"Sonia\")"
   ]
  },
  {
   "cell_type": "code",
   "execution_count": null,
   "id": "4814d084",
   "metadata": {},
   "outputs": [],
   "source": [
    "saludame(idioma=\"en\", nombre=\"Sonia\")"
   ]
  },
  {
   "cell_type": "code",
   "execution_count": null,
   "id": "7d11602c",
   "metadata": {},
   "outputs": [],
   "source": [
    "def saludame2 (nombre, frase_educada = \"¿Qué tal la familia?\", idioma = \"es\"):\n",
    "    if idioma == \"es\":\n",
    "        return f\"Qué pasa {nombre}!{frase_educada}\"\n",
    "    elif idioma == \"en\":\n",
    "        return f\"What's uuuuup {nombre}\"\n",
    "    else:\n",
    "        return f\"No te entiendo\""
   ]
  },
  {
   "cell_type": "code",
   "execution_count": null,
   "id": "47a5f565",
   "metadata": {},
   "outputs": [],
   "source": [
    "saludame2(\"Ana\",idioma=\"en\")"
   ]
  },
  {
   "cell_type": "code",
   "execution_count": null,
   "id": "85f5b5f5",
   "metadata": {},
   "outputs": [],
   "source": [
    "saludame2(\"Ana\")"
   ]
  },
  {
   "cell_type": "code",
   "execution_count": null,
   "id": "2cc2871f",
   "metadata": {},
   "outputs": [],
   "source": [
    "saludame2(\"\")"
   ]
  },
  {
   "cell_type": "markdown",
   "id": "b9becf91",
   "metadata": {},
   "source": [
    "## No confundamos los PRINT dentro de una función con los RETURN!\n",
    "![](https://www.meme-arsenal.com/memes/fe5bf97fd7c334a13e0b1ed849ca6364.jpg) \n"
   ]
  },
  {
   "cell_type": "code",
   "execution_count": null,
   "id": "2c88d388",
   "metadata": {},
   "outputs": [],
   "source": [
    "def saludame (nombre, idioma = \"es\"):\n",
    "    if idioma == \"es\":\n",
    "        return f\"Qué pasa {nombre}!\"\n",
    "    elif idioma == \"en\":\n",
    "        return f\"What's uuuuup {nombre}\"\n",
    "    else:\n",
    "        return f\"No te entiendo\""
   ]
  },
  {
   "cell_type": "code",
   "execution_count": null,
   "id": "9cd69de5",
   "metadata": {},
   "outputs": [],
   "source": [
    "mi_saludo = saludame(\"Pepe\")\n",
    "mi_saludo"
   ]
  },
  {
   "cell_type": "code",
   "execution_count": null,
   "id": "70528dbd",
   "metadata": {},
   "outputs": [],
   "source": [
    "type(mi_saludo)"
   ]
  },
  {
   "cell_type": "code",
   "execution_count": null,
   "id": "148b037b",
   "metadata": {},
   "outputs": [],
   "source": [
    "#ponemos prints en vez de return\n",
    "def saludame_mal (nombre, idioma = \"es\"):\n",
    "    if idioma == \"es\":\n",
    "        print( f\"Qué pasa {nombre}!\")\n",
    "    elif idioma == \"en\":\n",
    "        print (f\"What's uuuuup {nombre}\")\n",
    "    else:\n",
    "        print (f\"No te entiendo\")"
   ]
  },
  {
   "cell_type": "code",
   "execution_count": null,
   "id": "b7b50afc",
   "metadata": {},
   "outputs": [],
   "source": [
    "misaludo_2 = saludame_mal(\"Pepe\")\n"
   ]
  },
  {
   "cell_type": "code",
   "execution_count": null,
   "id": "3b664f0f",
   "metadata": {},
   "outputs": [],
   "source": [
    "misaludo_2"
   ]
  },
  {
   "cell_type": "code",
   "execution_count": null,
   "id": "94292dc9",
   "metadata": {},
   "outputs": [],
   "source": [
    "type(misaludo_2)"
   ]
  },
  {
   "cell_type": "markdown",
   "id": "73869cae",
   "metadata": {},
   "source": [
    "## Docstring\n",
    "El código se escribe 1 vez.  \n",
    "El código se lee 100 veces.  \n",
    "Ayuda a tus compañeros a entender tu trabajo.  \n",
    "![lafoto](https://res.cloudinary.com/highflyer910/image/upload/v1589577574/1_1_httqnc.jpg)\n",
    "En este ejemplo, hemos definido una función gato que devuelve miau. Hemos declarado un docstring que explica lo que hace la función. Para obtener el docstring de una función, necesitamos mostrar el atributo doc (print(cat.__doc__))     \n",
    "Referencia de la foto, la descripción y más info sobre docstring [aquí](https://techiestuff.netlify.app/blog/what-is-a-python-docstring/)"
   ]
  },
  {
   "cell_type": "code",
   "execution_count": null,
   "id": "aca3fa60",
   "metadata": {},
   "outputs": [],
   "source": [
    "def funcioncita():\n",
    "    \"\"\"Una función para ver qué es un docstring\"\"\"\n",
    "    pass"
   ]
  },
  {
   "cell_type": "code",
   "execution_count": null,
   "id": "4ea9d1d4",
   "metadata": {},
   "outputs": [],
   "source": [
    "funcioncita.__doc__"
   ]
  },
  {
   "cell_type": "code",
   "execution_count": null,
   "id": "fd2aa704",
   "metadata": {},
   "outputs": [],
   "source": [
    "sum.__doc__"
   ]
  },
  {
   "cell_type": "code",
   "execution_count": null,
   "id": "6a87359f",
   "metadata": {},
   "outputs": [],
   "source": [
    "help(funcioncita)"
   ]
  },
  {
   "cell_type": "code",
   "execution_count": null,
   "id": "3a8d77ad",
   "metadata": {},
   "outputs": [],
   "source": [
    "funcioncita() #si situamos el cursor encima de \"funcioncita\" y pulsamos shift+tab podemos ver el docstring"
   ]
  },
  {
   "cell_type": "markdown",
   "id": "8486ae76",
   "metadata": {},
   "source": [
    "## Scope de las funciones"
   ]
  },
  {
   "cell_type": "code",
   "execution_count": null,
   "id": "9ae586ab",
   "metadata": {},
   "outputs": [],
   "source": [
    "#Variable global\n",
    "mivariable = 56"
   ]
  },
  {
   "cell_type": "code",
   "execution_count": null,
   "id": "a7b2f949",
   "metadata": {},
   "outputs": [],
   "source": [
    "34 + mivariable"
   ]
  },
  {
   "cell_type": "code",
   "execution_count": null,
   "id": "90d65784",
   "metadata": {},
   "outputs": [],
   "source": [
    "def sumar_56(num):\n",
    "    return mivariable+num"
   ]
  },
  {
   "cell_type": "code",
   "execution_count": null,
   "id": "6dbd15d8",
   "metadata": {},
   "outputs": [],
   "source": [
    "sumar_56(15)"
   ]
  },
  {
   "cell_type": "code",
   "execution_count": null,
   "id": "ab377b09",
   "metadata": {},
   "outputs": [],
   "source": [
    "#variable local\n",
    "def sumar_71(num):\n",
    "    nombre_local = input(\"Introduzca su nombre\")\n",
    "    varlocal = 71\n",
    "    return f\"{nombre_local}, el resultado es {num+varlocal}\""
   ]
  },
  {
   "cell_type": "code",
   "execution_count": null,
   "id": "c4ce1004",
   "metadata": {},
   "outputs": [],
   "source": [
    "nombre_local #esta variable es local, solo existe dentro de la función"
   ]
  },
  {
   "cell_type": "code",
   "execution_count": null,
   "id": "3feb2dd3",
   "metadata": {},
   "outputs": [],
   "source": [
    "sumar_71(9)s"
   ]
  },
  {
   "cell_type": "code",
   "execution_count": null,
   "id": "7621cfba",
   "metadata": {},
   "outputs": [],
   "source": [
    "varlocal = 7 #ahora es una variable global"
   ]
  },
  {
   "cell_type": "code",
   "execution_count": null,
   "id": "179de62b",
   "metadata": {},
   "outputs": [],
   "source": [
    "varlocal"
   ]
  },
  {
   "cell_type": "code",
   "execution_count": null,
   "id": "901ccb54",
   "metadata": {},
   "outputs": [],
   "source": [
    "sumar_71(9)"
   ]
  },
  {
   "cell_type": "code",
   "execution_count": null,
   "id": "93bcacfd",
   "metadata": {},
   "outputs": [],
   "source": [
    "varlocal"
   ]
  },
  {
   "cell_type": "code",
   "execution_count": null,
   "id": "d9880027",
   "metadata": {},
   "outputs": [],
   "source": [
    "siglo = 21\n",
    "def mifecha (d,m,a):\n",
    "    \n",
    "    return f\"{d}-{m}-{a}-{siglo}\""
   ]
  },
  {
   "cell_type": "code",
   "execution_count": null,
   "id": "814c50e0",
   "metadata": {},
   "outputs": [],
   "source": [
    "mifecha(13,1,1998)"
   ]
  },
  {
   "cell_type": "markdown",
   "id": "14d683b0",
   "metadata": {},
   "source": [
    "## *Args\n",
    "En Python, el parámetro especial *args en una función se usa para pasar, de forma opcional, un número variable de argumentos posicionales."
   ]
  },
  {
   "cell_type": "code",
   "execution_count": null,
   "id": "af590587",
   "metadata": {},
   "outputs": [],
   "source": [
    "def suma(a,b):\n",
    "    return a+b"
   ]
  },
  {
   "cell_type": "code",
   "execution_count": null,
   "id": "5667d603",
   "metadata": {},
   "outputs": [],
   "source": [
    "suma(8,2)"
   ]
  },
  {
   "cell_type": "code",
   "execution_count": null,
   "id": "ac559e56",
   "metadata": {},
   "outputs": [],
   "source": [
    "suma(1,5,3)"
   ]
  },
  {
   "cell_type": "code",
   "execution_count": null,
   "id": "b3a13a84",
   "metadata": {},
   "outputs": [],
   "source": [
    "def suma(*args):\n",
    "    print(args)\n",
    "    print(type(args))\n",
    "    t=0\n",
    "    for n in args:\n",
    "        t+= n\n",
    "    return t\n",
    "        "
   ]
  },
  {
   "cell_type": "code",
   "execution_count": null,
   "id": "3013c3ab",
   "metadata": {},
   "outputs": [],
   "source": [
    "suma(4)"
   ]
  },
  {
   "cell_type": "code",
   "execution_count": null,
   "id": "66bfb8b7",
   "metadata": {},
   "outputs": [],
   "source": [
    "suma(4,8,12)"
   ]
  },
  {
   "cell_type": "markdown",
   "id": "ad08aa85",
   "metadata": {},
   "source": [
    "### Otro ejemplo:\n",
    "Jaime vive con dos compañeras de piso, y quieren dividir el alquiler a partes iguales, pero en algún moment oel número de compañeras de piso podría cambiar."
   ]
  },
  {
   "cell_type": "code",
   "execution_count": null,
   "id": "514f8f2d",
   "metadata": {},
   "outputs": [],
   "source": [
    "def alquiler(precio, *args):\n",
    "    return precio/len(args)"
   ]
  },
  {
   "cell_type": "code",
   "execution_count": null,
   "id": "14e8ab77",
   "metadata": {},
   "outputs": [],
   "source": [
    "alquiler(3000, \"Manolo\", \"Juan\", \"Pepe\")"
   ]
  },
  {
   "cell_type": "markdown",
   "id": "dedc265a",
   "metadata": {},
   "source": [
    "Recogen a Kenia, una gata callejera adorable, pero por supuesto ahora Kenia tendrá que pagar el alquiler."
   ]
  },
  {
   "cell_type": "code",
   "execution_count": null,
   "id": "5bea8e74",
   "metadata": {},
   "outputs": [],
   "source": [
    "#Llega Kenia\n",
    "alquiler(3000, \"Belén\", \"Lore\", \"Sonia\", \"Kenia\")"
   ]
  },
  {
   "cell_type": "markdown",
   "id": "87a4dd6d",
   "metadata": {},
   "source": [
    "## **Kwargs"
   ]
  },
  {
   "cell_type": "markdown",
   "id": "a80e1f2b",
   "metadata": {},
   "source": [
    "También podemos pasar como argumento un diccionario usando como claves los nombres de los parámetros (* *kwargs).\n",
    "Emplea * *kwargs para pasar de forma opcional a una función un número variable de argumentos con nombre.      \n",
    "Es un diccionario cuyas claves se convierten en parámetros y sus valores en los argumentos de los parámetros.    \n",
    "El parámetro * *kwargs recibe los argumentos como un diccionario.      "
   ]
  },
  {
   "cell_type": "code",
   "execution_count": null,
   "id": "6fc82333",
   "metadata": {},
   "outputs": [],
   "source": [
    "def otra_mas (**kwargs):\n",
    "    for k,v in kwargs.items():\n",
    "        print(k,v)"
   ]
  },
  {
   "cell_type": "code",
   "execution_count": null,
   "id": "aa747b78",
   "metadata": {},
   "outputs": [],
   "source": [
    "diccionario = {\"nombre\":\"Rodrigo\", \"edad\":23, \"hermanos\":2}"
   ]
  },
  {
   "cell_type": "code",
   "execution_count": null,
   "id": "86381dc8",
   "metadata": {},
   "outputs": [],
   "source": [
    "otra_mas(**diccionario)"
   ]
  },
  {
   "cell_type": "markdown",
   "id": "1a999fd1",
   "metadata": {},
   "source": [
    "Los chicos se han dado cuenta de que el reparto de alquiler no es equitativo, porque las habitaciones no tienen el mismo tamaño, asi que deciden dividirlo proporcionalmente al tamaño de los cuartos. El cuarto de Belén ocupa el 50% del espacio, el de Sonia el 30% y el de Lore el 20%"
   ]
  },
  {
   "cell_type": "code",
   "execution_count": null,
   "id": "5dd3f70e",
   "metadata": {},
   "outputs": [],
   "source": [
    "habitaciones = {\"Belén\":0.5 , \"Sonia\":0.3,\"Lore\":0.2}\n",
    "p_alquiler = 3000"
   ]
  },
  {
   "cell_type": "code",
   "execution_count": null,
   "id": "46d38bdb",
   "metadata": {},
   "outputs": [],
   "source": [
    "def alquiler (precio,**kwargs):\n",
    "    pago = {k:(v*precio) for k,v in kwargs.items()}\n",
    "    return pago"
   ]
  },
  {
   "cell_type": "code",
   "execution_count": null,
   "id": "9ce5ab5a",
   "metadata": {},
   "outputs": [],
   "source": [
    "cuantopago = alquiler(p_alquiler,**habitaciones)\n",
    "cuantopago"
   ]
  },
  {
   "cell_type": "code",
   "execution_count": null,
   "id": "4e8aa8d8",
   "metadata": {},
   "outputs": [],
   "source": [
    "def mialquiler (precio,**kwargs):\n",
    "    pago = {}\n",
    "    for key,value in kwargs.items():\n",
    "        pago[key] = value*precio\n",
    "    return pago"
   ]
  },
  {
   "cell_type": "code",
   "execution_count": null,
   "id": "2e5fe060",
   "metadata": {},
   "outputs": [],
   "source": [
    "mialquiler(p_alquiler,**habitaciones)"
   ]
  },
  {
   "cell_type": "markdown",
   "id": "f509b136",
   "metadata": {},
   "source": [
    "Ahora lo complicamos un poco, queremos que Jaime pague el doble que Jose, y que Jose pague el triple que Pepe."
   ]
  },
  {
   "cell_type": "code",
   "execution_count": null,
   "id": "c11fe00d",
   "metadata": {},
   "outputs": [],
   "source": [
    "habitaciones = {\"Jose\": 3, \"Jaime\":2,\"Pepe\":1}"
   ]
  },
  {
   "cell_type": "code",
   "execution_count": null,
   "id": "ac9ea1f0",
   "metadata": {},
   "outputs": [],
   "source": [
    "def alq(precio, **kwargs):\n",
    "    \n",
    "    valores = [i for i in kwargs.values()] \n",
    "    nombres = [i for i in kwargs.keys()]\n",
    "    \n",
    "    sum_ud = 0\n",
    "    \n",
    "    for i in valores:\n",
    "        sum_ud += int(i)\n",
    "        \n",
    "    preciototal = precio/sum_ud\n",
    "  \n",
    "    #check1\n",
    "    print(preciototal)\n",
    "    \n",
    "    listapaga = [preciototal*i for i in valores]\n",
    "    \n",
    "    #check2\n",
    "    print(listapaga)\n",
    "    \n",
    "    finaldict = {}\n",
    "    \n",
    "    for i in range(0,len(kwargs)):\n",
    "        finaldict[nombres[i]] = listapaga[i]\n",
    "\n",
    "    #checkf\n",
    "    print(finaldict)\n",
    "    return(finaldict)\n",
    "    "
   ]
  },
  {
   "cell_type": "code",
   "execution_count": null,
   "id": "33fe87de",
   "metadata": {},
   "outputs": [],
   "source": [
    "alq(alquiler, **habitaciones)"
   ]
  },
  {
   "cell_type": "markdown",
   "id": "f70bff25",
   "metadata": {},
   "source": [
    "## El orden importa\n",
    "El orden de los parámetros a la hora de definir una función importa...\n",
    "```python\n",
    "def ejemplo(arg1, arg2, *args, **kwargs)\n",
    "```\n"
   ]
  },
  {
   "cell_type": "markdown",
   "id": "ae515790",
   "metadata": {},
   "source": [
    "## 5 - Lambda\n",
    "Una función lambda es una función anónima, sin identificador, que puede declararse in situ. Dado que podemos usar funciones como argumentos y asignarlas a variables, la notación que posibilita la creación de funciones lambda es muy práctica en muchos casos.\n",
    "### Sintaxis de una lambda\n",
    "```python\n",
    "lambda <lista de parámetros>: <expresión de retorno>\n",
    "```\n",
    "### Ejemplos de lambda"
   ]
  },
  {
   "cell_type": "code",
   "execution_count": null,
   "id": "7930c4a9",
   "metadata": {},
   "outputs": [],
   "source": [
    "lambda a,b: a+b # Suma\n",
    "lambda x: x **2 # cuadrado\n",
    "lambda x: x[0] # Devuelve el primer elemento del argumento\n",
    "lambda x, y: x if x>y else y # Devuelve el mayor"
   ]
  },
  {
   "cell_type": "markdown",
   "id": "b03ab65e",
   "metadata": {},
   "source": [
    "### Hagámoslo Fácil 🙃"
   ]
  },
  {
   "cell_type": "code",
   "execution_count": null,
   "id": "fbc5170a",
   "metadata": {},
   "outputs": [],
   "source": [
    "suma = lambda a,b: a+b"
   ]
  },
  {
   "cell_type": "code",
   "execution_count": null,
   "id": "bca3cb5c",
   "metadata": {},
   "outputs": [],
   "source": [
    "suma (1,6)"
   ]
  },
  {
   "cell_type": "code",
   "execution_count": null,
   "id": "7d86095c",
   "metadata": {},
   "outputs": [],
   "source": [
    "b=2 #variable global"
   ]
  },
  {
   "cell_type": "code",
   "execution_count": null,
   "id": "71f97370",
   "metadata": {},
   "outputs": [],
   "source": [
    "sum5 = lambda a,b=5: a+b #aquí b=5 está dentro de lambda, no afecta a nuestra variable global"
   ]
  },
  {
   "cell_type": "code",
   "execution_count": null,
   "id": "b9672df9",
   "metadata": {},
   "outputs": [],
   "source": [
    "sum5(1)"
   ]
  },
  {
   "cell_type": "code",
   "execution_count": null,
   "id": "a89b21a2",
   "metadata": {},
   "outputs": [],
   "source": [
    "b"
   ]
  },
  {
   "cell_type": "code",
   "execution_count": null,
   "id": "f26d299e",
   "metadata": {},
   "outputs": [],
   "source": [
    "sum5(4,9) #Si especificamos de nuevo el argumento b, nos suma a + el b que acabaos de especificar"
   ]
  },
  {
   "cell_type": "code",
   "execution_count": null,
   "id": "47b31319",
   "metadata": {},
   "outputs": [],
   "source": [
    "sum5(3)"
   ]
  },
  {
   "cell_type": "code",
   "execution_count": null,
   "id": "9b637ffa",
   "metadata": {},
   "outputs": [],
   "source": [
    "maximo = lambda x, y: x if x>y else y"
   ]
  },
  {
   "cell_type": "code",
   "execution_count": null,
   "id": "d9856c94",
   "metadata": {},
   "outputs": [],
   "source": [
    "maximo(2341234,9876796)"
   ]
  },
  {
   "cell_type": "markdown",
   "id": "049946d6",
   "metadata": {},
   "source": [
    "También es posible usar estas funciones anónimas como argumentos en la llamada a otras funcoines. Por ejemplo, en una llamada a sorted() o list.sort() podemos usar una función lambda como argumento para el parámetro key:"
   ]
  },
  {
   "cell_type": "code",
   "execution_count": 38,
   "id": "29682e5e",
   "metadata": {},
   "outputs": [],
   "source": [
    "distancias = [(\"Madrid\", 331), (\"Córdoba\", 117), (\"Barcelona\",798)]"
   ]
  },
  {
   "cell_type": "code",
   "execution_count": 39,
   "id": "11380e40",
   "metadata": {},
   "outputs": [
    {
     "data": {
      "text/plain": [
       "[('Barcelona', 798), ('Córdoba', 117), ('Madrid', 331)]"
      ]
     },
     "execution_count": 39,
     "metadata": {},
     "output_type": "execute_result"
    }
   ],
   "source": [
    "sorted(distancias) #Por defecto lo ordena por el primer elemento de cada tupla"
   ]
  },
  {
   "cell_type": "code",
   "execution_count": 40,
   "id": "cb2dee41",
   "metadata": {},
   "outputs": [],
   "source": [
    "tupla1 = (\"Madrid\", 331)"
   ]
  },
  {
   "cell_type": "code",
   "execution_count": 41,
   "id": "6b4285c0",
   "metadata": {},
   "outputs": [
    {
     "data": {
      "text/plain": [
       "'Madrid'"
      ]
     },
     "execution_count": 41,
     "metadata": {},
     "output_type": "execute_result"
    }
   ],
   "source": [
    "tupla1[0]"
   ]
  },
  {
   "cell_type": "code",
   "execution_count": 42,
   "id": "ffa8e0c6",
   "metadata": {},
   "outputs": [],
   "source": [
    "orden_tuplas = lambda x: x[1]"
   ]
  },
  {
   "cell_type": "code",
   "execution_count": 43,
   "id": "1103fb08",
   "metadata": {},
   "outputs": [
    {
     "data": {
      "text/plain": [
       "331"
      ]
     },
     "execution_count": 43,
     "metadata": {},
     "output_type": "execute_result"
    }
   ],
   "source": [
    "orden_tuplas(tupla1)"
   ]
  },
  {
   "cell_type": "code",
   "execution_count": 44,
   "id": "ccf87848",
   "metadata": {},
   "outputs": [
    {
     "data": {
      "text/plain": [
       "[('Córdoba', 117), ('Madrid', 331), ('Barcelona', 798)]"
      ]
     },
     "execution_count": 44,
     "metadata": {},
     "output_type": "execute_result"
    }
   ],
   "source": [
    "#Ordenamos por la distancia, de menor a mayor by default \n",
    "sorted(distancias, key = lambda x: x[1])"
   ]
  },
  {
   "cell_type": "code",
   "execution_count": 45,
   "id": "02ed1f0c",
   "metadata": {},
   "outputs": [
    {
     "data": {
      "text/plain": [
       "[('Barcelona', 798), ('Madrid', 331), ('Córdoba', 117)]"
      ]
     },
     "execution_count": 45,
     "metadata": {},
     "output_type": "execute_result"
    }
   ],
   "source": [
    "#Ordenamos por distancia pero de mayor a menor, con reverse = True\n",
    "sorted(distancias, key=lambda x: x[1], reverse=True)"
   ]
  },
  {
   "cell_type": "code",
   "execution_count": null,
   "id": "e824095c",
   "metadata": {},
   "outputs": [],
   "source": [
    "#Ordenamos alfabéticamente utilizando el primer elemento x[0]\n",
    "sorted(distancias, key = lambda x: x[0])"
   ]
  },
  {
   "cell_type": "code",
   "execution_count": null,
   "id": "eb5be581",
   "metadata": {},
   "outputs": [],
   "source": [
    "#Ordenamos alfabéticamente de final a principio utilizando reverse = True\n",
    "sorted(distancias, key=lambda x: x[0], reverse=True)"
   ]
  },
  {
   "cell_type": "code",
   "execution_count": null,
   "id": "50fe2d9a",
   "metadata": {},
   "outputs": [],
   "source": [
    "sorted(distancias, key=lambda x,j=0: x[j], reverse=True)"
   ]
  },
  {
   "cell_type": "markdown",
   "id": "6ab72217",
   "metadata": {},
   "source": [
    "Por último, si queremos devolver como resultado de una función a otra función podemos usar cualquier función conocida en el ámbito de la función que realiza el retorno, o usar una función lambda:"
   ]
  },
  {
   "cell_type": "code",
   "execution_count": null,
   "id": "73ac9603",
   "metadata": {},
   "outputs": [],
   "source": [
    "def suma5_otra (num,num2):\n",
    "    return sum(num, num2)"
   ]
  },
  {
   "cell_type": "code",
   "execution_count": null,
   "id": "12cde175",
   "metadata": {},
   "outputs": [],
   "source": [
    "def comparaciones (tipo):\n",
    "    def mayor (a,b):\n",
    "        if a>b:\n",
    "            return a\n",
    "        else:\n",
    "            return b\n",
    "        \n",
    "        \n",
    "    if tipo == \"mayor\":\n",
    "        return mayor\n",
    "    \n",
    "    \n",
    "    elif tipo == \"menor\":\n",
    "        return lambda x,y:x if x<y else y"
   ]
  },
  {
   "cell_type": "code",
   "execution_count": null,
   "id": "c5571887",
   "metadata": {},
   "outputs": [],
   "source": [
    "comparaciones(\"mayor\")(6,5)"
   ]
  },
  {
   "cell_type": "code",
   "execution_count": null,
   "id": "45ccb1a9",
   "metadata": {},
   "outputs": [],
   "source": [
    "comparaciones(\"menor\")(6,5)"
   ]
  },
  {
   "cell_type": "markdown",
   "id": "c939a669",
   "metadata": {},
   "source": [
    "## Recursividad\n",
    "Se denomina llamada recursiva (o recursividad), a aquellas funciones que en su algoritmo, hacen referencia sí misma.\n",
    "\n",
    "Las llamadas recursivas suelen ser muy útiles en casos muy puntuales, pero debido a su gran factibilidad de caer en iteraciones infinitas, deben extremarse las medidas preventivas adecuadas y, solo utilizarse cuando sea estrictamente necesario y no exista una forma alternativa viable, que resuelva el problema evitando la recursividad.\n",
    "\n",
    "Python admite las llamadas recursivas, permitiendo a una función, llamarse a sí misma, de igual forma que lo hace cuando llama a otra función."
   ]
  },
  {
   "cell_type": "code",
   "execution_count": 46,
   "id": "0984ef71",
   "metadata": {},
   "outputs": [],
   "source": [
    "def jueguito (intento =1):\n",
    "    respuesta = input (\"\\n¿Qué lenguaje es que más mola?  \")\n",
    "    if \"python\" not in respuesta.lower():\n",
    "        if intento < 3:\n",
    "            print (\"\\nFALLASTEEEEE!!!!!. Inténtalo de nuevo\")\n",
    "            intento +=1\n",
    "            jueguito(intento) # Llamada recursiva\n",
    "        else:\n",
    "            print(\"\\n ¡Perdiste!\")\n",
    "    \n",
    "    else:\n",
    "        print (\"Claro que sí!!!🧠\")\n",
    "            "
   ]
  },
  {
   "cell_type": "code",
   "execution_count": 48,
   "id": "4cfd8808",
   "metadata": {},
   "outputs": [
    {
     "name": "stdout",
     "output_type": "stream",
     "text": [
      "Claro que sí!!!🧠\n"
     ]
    }
   ],
   "source": [
    "jueguito()"
   ]
  },
  {
   "cell_type": "code",
   "execution_count": 49,
   "id": "f998e66b",
   "metadata": {},
   "outputs": [
    {
     "name": "stdout",
     "output_type": "stream",
     "text": [
      "\n",
      "FALLASTEEEEE!!!!!. Inténtalo de nuevo\n",
      "\n",
      "FALLASTEEEEE!!!!!. Inténtalo de nuevo\n",
      "\n",
      " ¡Perdiste!\n"
     ]
    }
   ],
   "source": [
    "jueguito()"
   ]
  },
  {
   "cell_type": "code",
   "execution_count": null,
   "id": "0c5ebef7",
   "metadata": {},
   "outputs": [],
   "source": []
  }
 ],
 "metadata": {
  "kernelspec": {
   "display_name": "Python 3 (ipykernel)",
   "language": "python",
   "name": "python3"
  },
  "language_info": {
   "codemirror_mode": {
    "name": "ipython",
    "version": 3
   },
   "file_extension": ".py",
   "mimetype": "text/x-python",
   "name": "python",
   "nbconvert_exporter": "python",
   "pygments_lexer": "ipython3",
   "version": "3.9.16"
  },
  "toc": {
   "base_numbering": 1,
   "nav_menu": {},
   "number_sections": true,
   "sideBar": true,
   "skip_h1_title": true,
   "title_cell": "Table of Contents",
   "title_sidebar": "Contents",
   "toc_cell": true,
   "toc_position": {},
   "toc_section_display": true,
   "toc_window_display": false
  },
  "varInspector": {
   "cols": {
    "lenName": 16,
    "lenType": 16,
    "lenVar": 40
   },
   "kernels_config": {
    "python": {
     "delete_cmd_postfix": "",
     "delete_cmd_prefix": "del ",
     "library": "var_list.py",
     "varRefreshCmd": "print(var_dic_list())"
    },
    "r": {
     "delete_cmd_postfix": ") ",
     "delete_cmd_prefix": "rm(",
     "library": "var_list.r",
     "varRefreshCmd": "cat(var_dic_list()) "
    }
   },
   "types_to_exclude": [
    "module",
    "function",
    "builtin_function_or_method",
    "instance",
    "_Feature"
   ],
   "window_display": false
  }
 },
 "nbformat": 4,
 "nbformat_minor": 5
}
