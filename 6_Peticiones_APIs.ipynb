{
 "cells": [
  {
   "attachments": {},
   "cell_type": "markdown",
   "metadata": {},
   "source": [
    "# 6 - Peticiones a Webs y APIs\n",
    "![api](https://dossetenta.com/wp-content/uploads/2021/12/R6qFq3n.png)\n",
    "\n",
    "# 6.1 - APIs\n",
    "\n",
    "En el mundo actual de la programación, las APIs (Interfaces de Programación de Aplicaciones, por sus siglas en inglés) desempeñan un papel fundamental al permitir la comunicación y la integración entre diferentes programas de software. Una API actúa como un conjunto de ***reglas y especificaciones*** que definen cómo dos aplicaciones pueden interactuar y compartir datos entre sí.\n",
    "\n",
    "Al utilizar una API, un desarrollador puede escribir un programa que solicite servicios o información de un sistema operativo, una plataforma en línea o cualquier otra aplicación que ofrezca una API pública. La API proporciona una interfaz clara y definida a través de la cual el programa puede enviar solicitudes de procesamiento y recibir los datos necesarios en respuesta.\n",
    "\n",
    "Cada API tiene su propia sintaxis y estructura, que se describe en detalle en la documentación proporcionada por el proveedor de la API. Esta documentación explica cómo se deben formular las solicitudes, qué parámetros se deben incluir y cómo interpretar y utilizar las respuestas recibidas. Es importante tener en cuenta que cada API es única y puede tener diferentes métodos de autenticación, limitaciones de uso y características específicas.\n",
    "\n",
    "En general, las APIs constan de dos componentes principales. En primer lugar, está la especificación, que define cómo se realiza el intercambio de información entre programas. Esto incluye el formato de las solicitudes y respuestas, los tipos de datos admitidos y cualquier convención de nomenclatura necesaria. En segundo lugar, está la implementación real de la interfaz de software que cumple con la especificación. Esta implementación se proporciona y publica de alguna manera para que otros desarrolladores puedan utilizarla.\n",
    "\n",
    "En muchos casos, las APIs se utilizan para obtener información actualizada de fuentes externas. Esto puede incluir datos en tiempo real, como información meteorológica, cotizaciones de acciones, resultados de búsquedas o actualizaciones de redes sociales. Al acceder a estas APIs, los desarrolladores pueden enriquecer sus aplicaciones con datos relevantes y actualizados, brindando a los usuarios una experiencia más completa y personalizada.\n",
    "\n",
    "En resumen, las APIs son una herramienta poderosa para la comunicación y la integración de software. Permiten que diferentes programas se conecten y compartan datos de manera eficiente, al tiempo que brindan a los desarrolladores acceso a una amplia gama de servicios y recursos. Al comprender cómo interactuar con las APIs y aprovechar su funcionalidad, los desarrolladores pueden crear aplicaciones más sofisticadas y conectadas que se benefician de la vasta cantidad de información disponible en la web.\n",
    "\n",
    "De manera general, usaremos las api para obtener información."
   ]
  },
  {
   "attachments": {},
   "cell_type": "markdown",
   "metadata": {},
   "source": [
    "- ### Peticiones a la web (GET)\n",
    "\n",
    "Usaremos la librería [requests](https://docs.python-requests.org/en/master/) para realizar peticiones a la web."
   ]
  },
  {
   "cell_type": "code",
   "execution_count": null,
   "metadata": {},
   "outputs": [],
   "source": [
    "#%conda install requests"
   ]
  },
  {
   "cell_type": "code",
   "execution_count": null,
   "metadata": {},
   "outputs": [],
   "source": [
    "import requests as req #Req es un standard en cuanto a alias para requests"
   ]
  },
  {
   "cell_type": "code",
   "execution_count": null,
   "metadata": {},
   "outputs": [],
   "source": [
    "url='http://www.google.es'"
   ]
  },
  {
   "cell_type": "code",
   "execution_count": null,
   "metadata": {},
   "outputs": [],
   "source": [
    "req.get(url)  # realiza la peticion get, nos da codigo 200, que es que todo ha ido bien"
   ]
  },
  {
   "cell_type": "code",
   "execution_count": null,
   "metadata": {},
   "outputs": [],
   "source": [
    "respuesta = req.get(url) #lo guardo en una variable"
   ]
  },
  {
   "cell_type": "code",
   "execution_count": null,
   "metadata": {},
   "outputs": [],
   "source": [
    "respuesta.text[0:100] #esta variable tiene un atributo text, que es el html de la pagina"
   ]
  },
  {
   "cell_type": "code",
   "execution_count": null,
   "metadata": {},
   "outputs": [],
   "source": [
    "url='http://www.google.com/search?q=gamma+tech+school' #url con parametros, hay infinitos parametros"
   ]
  },
  {
   "cell_type": "code",
   "execution_count": null,
   "metadata": {},
   "outputs": [],
   "source": [
    "req.get(url).text[0:150]"
   ]
  },
  {
   "attachments": {},
   "cell_type": "markdown",
   "metadata": {},
   "source": [
    "# 6.2 - EJEMPLOS DE LLAMADAS A APIS 📞"
   ]
  },
  {
   "attachments": {},
   "cell_type": "markdown",
   "metadata": {},
   "source": [
    "### IMGFLIP (Api de [Memes](https://imgflip.com/api)):"
   ]
  },
  {
   "cell_type": "code",
   "execution_count": null,
   "metadata": {},
   "outputs": [],
   "source": [
    "url = 'https://api.imgflip.com/get_memes'#url de una api\n",
    "response = req.get(url).json() # Para ver la respuesta en formato json\n",
    "response"
   ]
  },
  {
   "cell_type": "code",
   "execution_count": null,
   "metadata": {},
   "outputs": [],
   "source": [
    "#vamos a sacar el primer meme\n",
    "response['data']['memes'][0]"
   ]
  },
  {
   "cell_type": "code",
   "execution_count": null,
   "metadata": {},
   "outputs": [],
   "source": [
    "#vamos a sacar la url de la imagen:\n",
    "image_url = response['data']['memes'][0]['url']\n",
    "image_url"
   ]
  },
  {
   "cell_type": "code",
   "execution_count": null,
   "metadata": {},
   "outputs": [],
   "source": [
    "#vamos a mostrar la imagen\n",
    "from IPython.display import Image\n",
    "Image(image_url)"
   ]
  },
  {
   "cell_type": "code",
   "execution_count": null,
   "metadata": {},
   "outputs": [],
   "source": [
    "len(response['data']['memes']) # para ver cuantos memes hay"
   ]
  },
  {
   "cell_type": "code",
   "execution_count": null,
   "metadata": {},
   "outputs": [],
   "source": [
    "#vamos a sacar el nombre de todos los memes\n",
    "for meme in response['data']['memes']:\n",
    "    print(meme['name'])\n",
    "    "
   ]
  },
  {
   "attachments": {},
   "cell_type": "markdown",
   "metadata": {},
   "source": [
    "### API de [Anime](https://jikan.moe/)"
   ]
  },
  {
   "cell_type": "code",
   "execution_count": null,
   "metadata": {},
   "outputs": [],
   "source": [
    "URL_BASE='https://api.jikan.moe/v4/anime?q='"
   ]
  },
  {
   "cell_type": "code",
   "execution_count": null,
   "metadata": {},
   "outputs": [],
   "source": [
    "busqueda='ghost in the shell'"
   ]
  },
  {
   "cell_type": "code",
   "execution_count": null,
   "metadata": {},
   "outputs": [],
   "source": [
    "response=req.get(URL_BASE+busqueda)\n",
    "\n",
    "response"
   ]
  },
  {
   "cell_type": "code",
   "execution_count": null,
   "metadata": {},
   "outputs": [],
   "source": [
    "response.json()"
   ]
  },
  {
   "attachments": {},
   "cell_type": "markdown",
   "metadata": {},
   "source": [
    "### [PokeAPI](https://pokeapi.co/)"
   ]
  },
  {
   "cell_type": "code",
   "execution_count": null,
   "metadata": {},
   "outputs": [],
   "source": [
    "URL='https://pokeapi.co/api/v2/'"
   ]
  },
  {
   "cell_type": "code",
   "execution_count": null,
   "metadata": {},
   "outputs": [],
   "source": [
    "pokemon_específico='pokemon/25'"
   ]
  },
  {
   "cell_type": "code",
   "execution_count": null,
   "metadata": {},
   "outputs": [],
   "source": [
    "res=req.get(URL+pokemon_específico)\n",
    "\n",
    "res"
   ]
  },
  {
   "cell_type": "code",
   "execution_count": null,
   "metadata": {},
   "outputs": [],
   "source": [
    "# la url puede tener parametros\n",
    "\n",
    "parametros={'limit':3, 'offset':1}  # url=https://pokeapi.co/api/v2/pokemon?limit=3&offset=1\n",
    "\n",
    "req.get(URL+'pokemon', params=parametros).json()"
   ]
  },
  {
   "attachments": {},
   "cell_type": "markdown",
   "metadata": {},
   "source": [
    "### [ISS](https://wheretheiss.at/w/developer) API"
   ]
  },
  {
   "cell_type": "code",
   "execution_count": null,
   "metadata": {
    "scrolled": false
   },
   "outputs": [],
   "source": [
    "URL='https://api.wheretheiss.at/v1/satellites'\n",
    "\n",
    "res_iss=req.get(URL)\n",
    "\n",
    "res_iss"
   ]
  },
  {
   "cell_type": "code",
   "execution_count": null,
   "metadata": {},
   "outputs": [],
   "source": [
    "res_iss.json() #Solo hay un satélite para la ISS"
   ]
  },
  {
   "cell_type": "code",
   "execution_count": null,
   "metadata": {},
   "outputs": [],
   "source": [
    "URL = 'https://api.wheretheiss.at/v1/satellites/25544'\n",
    "req.get(URL)"
   ]
  },
  {
   "cell_type": "code",
   "execution_count": null,
   "metadata": {},
   "outputs": [],
   "source": [
    "res_iss = req.get(URL).json() #Para ver la respuesta en formato json\n",
    "res_iss"
   ]
  },
  {
   "cell_type": "code",
   "execution_count": null,
   "metadata": {},
   "outputs": [],
   "source": [
    "resres_iss = req.get(URL).json() #Para ver la respuesta en formato json\n",
    "res_iss"
   ]
  },
  {
   "attachments": {},
   "cell_type": "markdown",
   "metadata": {},
   "source": [
    "La respuesta ha cambiado los datos, es decir nos está dando la posición actual de la ISS en cada momento en el que hacemos la petición.🤔🤔🤔💡"
   ]
  },
  {
   "cell_type": "code",
   "execution_count": null,
   "metadata": {},
   "outputs": [],
   "source": [
    "#Vamos a trackear a la ISS\n",
    "\n",
    "import time\n",
    "\n",
    "posiciones=[] #lista vacía donde vamos a almacenar las posiciones, más bien las respuestas\n",
    "\n",
    "for i in range(150):\n",
    "    print(i)\n",
    "    \n",
    "    res_iss=req.get(URL)\n",
    "    \n",
    "    data=res_iss.json()\n",
    "    \n",
    "    posiciones.append(data) #apendeamos el json a la lista\n",
    "    \n",
    "    time.sleep(0.5)  # que se duerma medio segundo"
   ]
  },
  {
   "cell_type": "code",
   "execution_count": null,
   "metadata": {},
   "outputs": [],
   "source": [
    "type(posiciones) # que tipo de objeto es?"
   ]
  },
  {
   "cell_type": "code",
   "execution_count": null,
   "metadata": {},
   "outputs": [],
   "source": [
    "type(posiciones[0]) # que tipo de objeto es el primer elemento de la lista?"
   ]
  },
  {
   "cell_type": "code",
   "execution_count": null,
   "metadata": {},
   "outputs": [],
   "source": [
    "#%conda install pandas\n",
    "import pandas as pd\n",
    "\n",
    "pd.DataFrame(posiciones)"
   ]
  },
  {
   "cell_type": "code",
   "execution_count": null,
   "metadata": {},
   "outputs": [],
   "source": [
    "#podemos representar la trayectoria de la ISS, vamos  a hacer a través de folium\n",
    "#%conda install folium\n",
    "import folium #libreria para hacer mapas\n",
    "#filtramos nuestro dataframe para quedarnos con las columnas que nos interesan\n",
    "df=pd.DataFrame(posiciones)[['latitude', 'longitude']]\n",
    "df"
   ]
  },
  {
   "attachments": {},
   "cell_type": "markdown",
   "metadata": {},
   "source": [
    "vamos a echarle un ojo a la guia rápida:\n",
    "\n",
    "https://python-visualization.github.io/folium/quickstart.html#Getting-Started"
   ]
  },
  {
   "cell_type": "code",
   "execution_count": null,
   "metadata": {},
   "outputs": [],
   "source": [
    "#vamos a crear un mapa donde representar la trayectoria, ponemos el centro en el primer punto del df\n",
    "mapa=folium.Map(location=[df['latitude'][0], df['longitude'][0]], zoom_start=8)"
   ]
  },
  {
   "cell_type": "code",
   "execution_count": null,
   "metadata": {},
   "outputs": [],
   "source": [
    "#vamos a iterar sobre el dataframe para ir pintando los puntos\n",
    "for i, row in df.iterrows():\n",
    "    print(i)\n",
    "    print(row)"
   ]
  },
  {
   "cell_type": "code",
   "execution_count": null,
   "metadata": {},
   "outputs": [],
   "source": [
    "for i, row in df.iterrows():\n",
    "    folium.Marker(location=[row['latitude'], row['longitude']]).add_to(mapa)\n",
    "mapa"
   ]
  },
  {
   "attachments": {},
   "cell_type": "markdown",
   "metadata": {},
   "source": [
    "<p align='center'>\n",
    "<img src = 'https://media.tenor.com/w-PCA2wkMQEAAAAC/mind-blown-shocked.gif' />\n",
    "</p>"
   ]
  },
  {
   "attachments": {},
   "cell_type": "markdown",
   "metadata": {},
   "source": [
    "DOCU de [Folium](https://python-visualization.github.io/folium/)"
   ]
  },
  {
   "attachments": {},
   "cell_type": "markdown",
   "metadata": {},
   "source": [
    "### [GitHub](https://docs.github.com/en/rest) API"
   ]
  },
  {
   "cell_type": "code",
   "execution_count": null,
   "metadata": {},
   "outputs": [],
   "source": [
    "URL='https://api.github.com/'"
   ]
  },
  {
   "cell_type": "code",
   "execution_count": null,
   "metadata": {},
   "outputs": [],
   "source": [
    "eventos='events'"
   ]
  },
  {
   "cell_type": "code",
   "execution_count": null,
   "metadata": {},
   "outputs": [],
   "source": [
    "res_git=req.get(URL+eventos)\n",
    "\n",
    "res_git"
   ]
  },
  {
   "cell_type": "code",
   "execution_count": null,
   "metadata": {},
   "outputs": [],
   "source": [
    "type(res_git.text[:10])"
   ]
  },
  {
   "cell_type": "code",
   "execution_count": null,
   "metadata": {},
   "outputs": [],
   "source": [
    "type(res_git.content[:10])"
   ]
  },
  {
   "cell_type": "code",
   "execution_count": null,
   "metadata": {
    "scrolled": false
   },
   "outputs": [],
   "source": [
    "res_git.json()[8]['actor']['url']"
   ]
  },
  {
   "cell_type": "code",
   "execution_count": null,
   "metadata": {},
   "outputs": [],
   "source": [
    "pd.DataFrame(res_git.json()).head()"
   ]
  },
  {
   "cell_type": "code",
   "execution_count": null,
   "metadata": {},
   "outputs": [],
   "source": [
    "pd.json_normalize(res_git.json()).head()"
   ]
  },
  {
   "attachments": {},
   "cell_type": "markdown",
   "metadata": {},
   "source": [
    "### [Nasa](https://api.nasa.gov/) API"
   ]
  },
  {
   "cell_type": "code",
   "execution_count": null,
   "metadata": {},
   "outputs": [],
   "source": [
    "URL='https://api.nasa.gov/'\n",
    "\n",
    "marte='mars-photos/api/v1/rovers/curiosity/photos?sol=1000&api_key=DEMO_KEY'\n",
    "\n",
    "res_nasa=req.get(URL+marte)"
   ]
  },
  {
   "cell_type": "code",
   "execution_count": null,
   "metadata": {},
   "outputs": [],
   "source": [
    "foto_url=res_nasa.json()['photos'][10]['img_src']\n",
    "foto_url"
   ]
  },
  {
   "cell_type": "code",
   "execution_count": null,
   "metadata": {},
   "outputs": [],
   "source": [
    "#Vamos a ver cuantas iamgenes hay (unas poquitas)\n",
    "len(res_nasa.json()['photos'])"
   ]
  },
  {
   "cell_type": "code",
   "execution_count": null,
   "metadata": {},
   "outputs": [],
   "source": [
    "#Vamos a elegir 10 imagenes al azar\n",
    "import random\n",
    "url_fotos = []\n",
    "for i in range(10):\n",
    "    numero=random.randint(0, len(res_nasa.json()['photos']))\n",
    "    foto_url=res_nasa.json()['photos'][numero]['img_src']\n",
    "    url_fotos.append(foto_url)\n",
    "url_fotos"
   ]
  },
  {
   "cell_type": "code",
   "execution_count": null,
   "metadata": {},
   "outputs": [],
   "source": [
    "from IPython.display import Image #libreria para mostrar imagenes dentro del notebook\n",
    "\n",
    "for foto_url in url_fotos:\n",
    "    display(Image(url=foto_url))"
   ]
  },
  {
   "cell_type": "code",
   "execution_count": null,
   "metadata": {},
   "outputs": [],
   "source": [
    "imagen_del_dia='planetary/apod?api_key=DEMO_KEY'"
   ]
  },
  {
   "cell_type": "code",
   "execution_count": null,
   "metadata": {},
   "outputs": [],
   "source": [
    "res_nasa=req.get(URL+imagen_del_dia)"
   ]
  },
  {
   "cell_type": "code",
   "execution_count": null,
   "metadata": {},
   "outputs": [],
   "source": [
    "res_nasa.json()"
   ]
  },
  {
   "cell_type": "code",
   "execution_count": null,
   "metadata": {},
   "outputs": [],
   "source": [
    "display(Image(url=res_nasa.json()['url']))"
   ]
  },
  {
   "attachments": {},
   "cell_type": "markdown",
   "metadata": {},
   "source": [
    "### Twitter API, ejemplo\n",
    "\n",
    "**https://developer.twitter.com/en/apply-for-access.html**\n",
    "    \n",
    "**http://docs.tweepy.org/en/latest/**\n",
    "\n",
    "```python\n",
    "import tweepy\n",
    "\n",
    "API_KEY='apikey'\n",
    "API_SECRET='apisecret'\n",
    "ACCESS_TOKEN='tu_token'\n",
    "TOKEN_SECRET='tu_tokensecret'\n",
    "\n",
    "auth=tweepy.OAuthHandler(API_KEY, API_SECRET)\n",
    "auth.set_access_token(ACCESS_TOKEN, TOKEN_SECRET)\n",
    "\n",
    "api=tweepy.API(auth)\n",
    "\n",
    "\n",
    "def get_followers(user, count=100):\n",
    "    results=api.followers(user, count=count)\n",
    "    followers=[pd.Series(foll._json) for foll in results]\n",
    "    df=pd.DataFrame(followers)\n",
    "    return df\n",
    "\n",
    "```"
   ]
  },
  {
   "cell_type": "code",
   "execution_count": null,
   "metadata": {},
   "outputs": [],
   "source": [
    "#SECRETOS AQUí"
   ]
  },
  {
   "cell_type": "code",
   "execution_count": null,
   "metadata": {},
   "outputs": [],
   "source": [
    "obj_auth = tweepy.OAuthHandler(api_key, api_key_secret)\n",
    "obj_auth.set_access_token(access_token, access_token_secret)\n",
    "api = tweepy.API(obj_auth)\n",
    "tweets = api.user_timeline(screen_name='@policia', count=10, include_rts=False, tweet_mode='extended')"
   ]
  },
  {
   "cell_type": "code",
   "execution_count": null,
   "metadata": {},
   "outputs": [],
   "source": [
    "for tweet in tweets:\n",
    "    print(tweet.full_text)\n",
    "    print('---------------------------------')"
   ]
  },
  {
   "cell_type": "code",
   "execution_count": null,
   "metadata": {},
   "outputs": [],
   "source": [
    "#dentro de cada tweet tenemos un json con toda la info\n",
    "tweets[0]._json #No os quiero ni contar lo que podemos sacar de aquí"
   ]
  },
  {
   "cell_type": "code",
   "execution_count": null,
   "metadata": {},
   "outputs": [],
   "source": [
    "#vamos a ver los usuarios que siguen a la policia\n",
    "seguidores = api.get_followers(screen_name='@policia', count=10)\n",
    "for seguidor in seguidores:\n",
    "    print(seguidor.screen_name)\n",
    "    print('---------------------------------')"
   ]
  }
 ],
 "metadata": {
  "finalized": {
   "timestamp": 1643279016815,
   "trusted": true
  },
  "kernelspec": {
   "display_name": "gamma",
   "language": "python",
   "name": "python3"
  },
  "language_info": {
   "codemirror_mode": {
    "name": "ipython",
    "version": 3
   },
   "file_extension": ".py",
   "mimetype": "text/x-python",
   "name": "python",
   "nbconvert_exporter": "python",
   "pygments_lexer": "ipython3",
   "version": "3.11.4"
  },
  "varInspector": {
   "cols": {
    "lenName": 16,
    "lenType": 16,
    "lenVar": 40
   },
   "kernels_config": {
    "python": {
     "delete_cmd_postfix": "",
     "delete_cmd_prefix": "del ",
     "library": "var_list.py",
     "varRefreshCmd": "print(var_dic_list())"
    },
    "r": {
     "delete_cmd_postfix": ") ",
     "delete_cmd_prefix": "rm(",
     "library": "var_list.r",
     "varRefreshCmd": "cat(var_dic_list()) "
    }
   },
   "types_to_exclude": [
    "module",
    "function",
    "builtin_function_or_method",
    "instance",
    "_Feature"
   ],
   "window_display": false
  }
 },
 "nbformat": 4,
 "nbformat_minor": 4
}
