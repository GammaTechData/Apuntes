{
 "cells": [
  {
   "cell_type": "markdown",
   "id": "76d615a8",
   "metadata": {},
   "source": [
    "### 8. Crea una función que tome dos números y un operador (+, -, *, /) como argumentos y devuelva el resultado de la operación."
   ]
  },
  {
   "cell_type": "code",
   "execution_count": null,
   "id": "a2d00de0",
   "metadata": {},
   "outputs": [],
   "source": []
  },
  {
   "cell_type": "markdown",
   "id": "3269a8f2",
   "metadata": {},
   "source": [
    "### 9. Escribe una función que tome una cadena de texto como argumento y cuente el número de palabras en esa cadena. Puedes asumir que las palabras están separadas por espacios."
   ]
  },
  {
   "cell_type": "code",
   "execution_count": null,
   "id": "560f3ec4",
   "metadata": {},
   "outputs": [],
   "source": []
  },
  {
   "cell_type": "markdown",
   "id": "93be4c0d",
   "metadata": {},
   "source": [
    "### 10. Define una función que tome una palabra como argumento y determine si es un palíndromo (es decir, si se lee igual de izquierda a derecha y de derecha a izquierda)."
   ]
  },
  {
   "cell_type": "code",
   "execution_count": null,
   "id": "54b7e450",
   "metadata": {},
   "outputs": [],
   "source": []
  },
  {
   "cell_type": "markdown",
   "id": "98134ae1",
   "metadata": {},
   "source": [
    "### 11. Crea una función que tome un número como argumento y genere una lista de todos los números primos menores o iguales a ese número."
   ]
  },
  {
   "cell_type": "code",
   "execution_count": null,
   "id": "b4633c07",
   "metadata": {},
   "outputs": [],
   "source": []
  },
  {
   "cell_type": "markdown",
   "id": "cd80b6bc",
   "metadata": {},
   "source": [
    "### 12. Escribe una función que convierta una temperatura dada en grados Celsius a grados Fahrenheit. La fórmula de conversión es: Fahrenheit = Celsius * 9/5 + 32."
   ]
  },
  {
   "cell_type": "code",
   "execution_count": null,
   "id": "dfd0e9ec",
   "metadata": {},
   "outputs": [],
   "source": []
  }
 ],
 "metadata": {
  "kernelspec": {
   "display_name": "Python 3 (ipykernel)",
   "language": "python",
   "name": "python3"
  },
  "language_info": {
   "codemirror_mode": {
    "name": "ipython",
    "version": 3
   },
   "file_extension": ".py",
   "mimetype": "text/x-python",
   "name": "python",
   "nbconvert_exporter": "python",
   "pygments_lexer": "ipython3",
   "version": "3.9.12"
  }
 },
 "nbformat": 4,
 "nbformat_minor": 5
}
