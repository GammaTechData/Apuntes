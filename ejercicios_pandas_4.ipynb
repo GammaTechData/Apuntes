{
 "cells": [
  {
   "cell_type": "code",
   "execution_count": 1,
   "id": "54e543a8",
   "metadata": {},
   "outputs": [],
   "source": [
    "import pandas as pd\n",
    "import numpy as np"
   ]
  },
  {
   "cell_type": "markdown",
   "id": "08c34e8f",
   "metadata": {},
   "source": [
    "## 1. Construye una serie a partir del siguiente diccionario: \n",
    "``` python\n",
    "\n",
    "d = {'Alex': 6353, 'Wilmer': 9487, 'Isabel': 2233}\n",
    "```"
   ]
  },
  {
   "cell_type": "code",
   "execution_count": 7,
   "id": "58489886",
   "metadata": {},
   "outputs": [
    {
     "data": {
      "text/plain": [
       "Alex      6353\n",
       "Wilmer    9487\n",
       "Isabel    2233\n",
       "dtype: int64"
      ]
     },
     "execution_count": 7,
     "metadata": {},
     "output_type": "execute_result"
    }
   ],
   "source": [
    "d = {'Alex': 6353, 'Wilmer': 9487, 'Isabel': 2233}\n",
    "ser = pd.Series(data=d)\n",
    "ser"
   ]
  },
  {
   "cell_type": "markdown",
   "id": "102d9166",
   "metadata": {},
   "source": [
    "## 2. Ahora, crea la misma serie, pero crealo directamente con estos indices (lee la documentación si es necesario):\n",
    "\n",
    "```python\n",
    "nombres = ['Wilmer', 'Lucas', 'Manu']\n",
    "\n",
    "```"
   ]
  },
  {
   "cell_type": "code",
   "execution_count": 10,
   "id": "7f47515a",
   "metadata": {},
   "outputs": [
    {
     "data": {
      "text/plain": [
       "Wilmer    9487.0\n",
       "Lucas        NaN\n",
       "Manu         NaN\n",
       "dtype: float64"
      ]
     },
     "execution_count": 10,
     "metadata": {},
     "output_type": "execute_result"
    }
   ],
   "source": [
    "nombres = ['Wilmer', 'Lucas', 'Manu']\n",
    "ser = pd.Series(data=d, index = nombres)\n",
    "ser"
   ]
  },
  {
   "cell_type": "markdown",
   "id": "3034a8fa",
   "metadata": {},
   "source": [
    "Tras hacer el ejercicio, sale algo raro? Por qué?"
   ]
  },
  {
   "cell_type": "markdown",
   "id": "1d7aa31f",
   "metadata": {},
   "source": [
    "## 3. Cuantos nulos hay en la serie anterior?"
   ]
  },
  {
   "cell_type": "code",
   "execution_count": 12,
   "id": "0096708f",
   "metadata": {},
   "outputs": [
    {
     "data": {
      "text/plain": [
       "2"
      ]
     },
     "execution_count": 12,
     "metadata": {},
     "output_type": "execute_result"
    }
   ],
   "source": [
    "ser.isnull().sum()"
   ]
  },
  {
   "cell_type": "markdown",
   "id": "9f653c99",
   "metadata": {},
   "source": [
    "## 4. Cargar el archivo \"titanic.csv\" en un DataFrame y mostrar 5 filas aleatorias del conjunto de datos."
   ]
  },
  {
   "cell_type": "code",
   "execution_count": null,
   "id": "ce709aee",
   "metadata": {},
   "outputs": [],
   "source": []
  },
  {
   "cell_type": "markdown",
   "id": "b2b2f827",
   "metadata": {},
   "source": [
    "## 4a. Cuantas filas y columnas tiene el dataframe?"
   ]
  },
  {
   "cell_type": "code",
   "execution_count": null,
   "id": "13dbf3a2",
   "metadata": {},
   "outputs": [],
   "source": []
  },
  {
   "cell_type": "markdown",
   "id": "1fa9333f",
   "metadata": {},
   "source": [
    "## 4.b Cuantos nulos hay en el dataframe?"
   ]
  },
  {
   "cell_type": "code",
   "execution_count": null,
   "id": "6f275429",
   "metadata": {},
   "outputs": [],
   "source": []
  },
  {
   "cell_type": "markdown",
   "id": "7eac7eb5",
   "metadata": {},
   "source": [
    "## 4.c Puedes mostrarme, con una sola línea, las estadísticas del dataframe? (media, numero de filas no vacías, desviación típica, etc)"
   ]
  },
  {
   "cell_type": "code",
   "execution_count": null,
   "id": "5b7bc553",
   "metadata": {},
   "outputs": [],
   "source": []
  },
  {
   "cell_type": "markdown",
   "id": "b99fa80f",
   "metadata": {},
   "source": [
    "## 4.d Selecciona las columnas de pasajeros, edades y sobrevivieron."
   ]
  },
  {
   "cell_type": "code",
   "execution_count": null,
   "id": "babae99b",
   "metadata": {},
   "outputs": [],
   "source": []
  },
  {
   "cell_type": "markdown",
   "id": "58a6d6ad",
   "metadata": {},
   "source": [
    "## 5. Calcular el número total de pasajeros en el Titanic."
   ]
  },
  {
   "cell_type": "code",
   "execution_count": null,
   "id": "db45f7a1",
   "metadata": {},
   "outputs": [],
   "source": []
  },
  {
   "cell_type": "markdown",
   "id": "5359acbf",
   "metadata": {},
   "source": [
    "## 6. Determinar la cantidad de pasajeros que sobrevivieron y los que no sobrevivieron."
   ]
  },
  {
   "cell_type": "code",
   "execution_count": null,
   "id": "e832d4cd",
   "metadata": {},
   "outputs": [],
   "source": []
  },
  {
   "cell_type": "markdown",
   "id": "5d6e225b",
   "metadata": {},
   "source": [
    "## 7. Calcular el porcentaje de pasajeros que sobrevivieron en el Titanic."
   ]
  },
  {
   "cell_type": "code",
   "execution_count": null,
   "id": "e06e5b3c",
   "metadata": {},
   "outputs": [],
   "source": []
  },
  {
   "cell_type": "markdown",
   "id": "6d75904a",
   "metadata": {},
   "source": [
    "## 8. Encontrar la edad promedio de los pasajeros a bordo."
   ]
  },
  {
   "cell_type": "code",
   "execution_count": null,
   "id": "153f1a16",
   "metadata": {},
   "outputs": [],
   "source": []
  },
  {
   "cell_type": "markdown",
   "id": "f103ce41",
   "metadata": {},
   "source": [
    "## 9. Calcular la cantidad de hombres y mujeres que viajaban en el Titanic."
   ]
  },
  {
   "cell_type": "code",
   "execution_count": null,
   "id": "b2da1209",
   "metadata": {},
   "outputs": [],
   "source": []
  },
  {
   "cell_type": "markdown",
   "id": "86a35653",
   "metadata": {},
   "source": [
    "## 10. Obtener el nombre de la persona más joven a bordo del Titanic."
   ]
  },
  {
   "cell_type": "code",
   "execution_count": null,
   "id": "66d23390",
   "metadata": {},
   "outputs": [],
   "source": []
  },
  {
   "cell_type": "markdown",
   "id": "a4a5b86d",
   "metadata": {},
   "source": [
    "## 11. Calcular la tarifa promedio pagada por los pasajeros del Titanic."
   ]
  },
  {
   "cell_type": "code",
   "execution_count": null,
   "id": "5346979d",
   "metadata": {},
   "outputs": [],
   "source": []
  },
  {
   "cell_type": "markdown",
   "id": "3e14ef17",
   "metadata": {},
   "source": [
    "## 12. Encontrar el número de pasajeros en cada clase (primera, segunda y tercera)."
   ]
  },
  {
   "cell_type": "code",
   "execution_count": null,
   "id": "70f043d6",
   "metadata": {},
   "outputs": [],
   "source": []
  },
  {
   "cell_type": "markdown",
   "id": "dd29d5c7",
   "metadata": {},
   "source": [
    "## 13. Calcular la cantidad de pasajeros que viajaban solos en comparación con los que viajaban con familiares."
   ]
  },
  {
   "cell_type": "code",
   "execution_count": null,
   "id": "13811fa2",
   "metadata": {},
   "outputs": [],
   "source": []
  },
  {
   "cell_type": "markdown",
   "id": "ad60eb45",
   "metadata": {},
   "source": [
    "## 14. Encontrar la edad promedio de los pasajeros que sobrevivieron y los que no sobrevivieron."
   ]
  },
  {
   "cell_type": "code",
   "execution_count": null,
   "id": "36c2e903",
   "metadata": {},
   "outputs": [],
   "source": []
  },
  {
   "cell_type": "markdown",
   "id": "5a91abce",
   "metadata": {},
   "source": [
    "## 15. Obtener el número de sobrevivientes por clase de pasajero."
   ]
  },
  {
   "cell_type": "code",
   "execution_count": null,
   "id": "8e5d43ec",
   "metadata": {},
   "outputs": [],
   "source": []
  },
  {
   "cell_type": "markdown",
   "id": "bdbf4903",
   "metadata": {},
   "source": [
    "## 16. Encontrar la tarifa más alta pagada por un pasajero a bordo."
   ]
  },
  {
   "cell_type": "code",
   "execution_count": null,
   "id": "30530f1a",
   "metadata": {},
   "outputs": [],
   "source": []
  },
  {
   "cell_type": "markdown",
   "id": "7cba6466",
   "metadata": {},
   "source": [
    "## 17. Calcular la cantidad de pasajeros que tenían hermanos o cónyuges a bordo."
   ]
  },
  {
   "cell_type": "code",
   "execution_count": null,
   "id": "5ae4f7a0",
   "metadata": {},
   "outputs": [],
   "source": []
  },
  {
   "cell_type": "markdown",
   "id": "c4e1f985",
   "metadata": {},
   "source": [
    "\n",
    "## 18. Determinar la cantidad de pasajeros que embarcaron en cada puerto (Cherburgo, Queenstown y Southampton)."
   ]
  },
  {
   "cell_type": "code",
   "execution_count": null,
   "id": "80ceab0e",
   "metadata": {},
   "outputs": [],
   "source": []
  },
  {
   "cell_type": "markdown",
   "id": "ff2e0cbb",
   "metadata": {},
   "source": [
    "## 19. Crea una copia del dataframe. A partir de ahora, trabajaras con esa copia."
   ]
  },
  {
   "cell_type": "code",
   "execution_count": null,
   "id": "f1bf61aa",
   "metadata": {},
   "outputs": [],
   "source": []
  },
  {
   "cell_type": "markdown",
   "id": "55239dd7",
   "metadata": {},
   "source": [
    "## 20.Crea una columna que sea el doble de la tarifa."
   ]
  },
  {
   "cell_type": "code",
   "execution_count": null,
   "id": "3b70e7d8",
   "metadata": {},
   "outputs": [],
   "source": []
  },
  {
   "cell_type": "markdown",
   "id": "3216514e",
   "metadata": {},
   "source": [
    "## 21. Crea una columna que te coja la primera palabra después de la coma del nombre. Hazlo de forma directa y también con apply"
   ]
  },
  {
   "cell_type": "code",
   "execution_count": null,
   "id": "6acd3d32",
   "metadata": {},
   "outputs": [],
   "source": []
  },
  {
   "cell_type": "markdown",
   "id": "2d3f3f6b",
   "metadata": {},
   "source": [
    "## 22. Elimina las columnas de nombre y de tarifa."
   ]
  },
  {
   "cell_type": "code",
   "execution_count": null,
   "id": "bba11764",
   "metadata": {},
   "outputs": [],
   "source": []
  },
  {
   "cell_type": "markdown",
   "id": "21344e8e",
   "metadata": {},
   "source": [
    "## 23.Dame los valores únicos de la columna creada en el 21"
   ]
  },
  {
   "cell_type": "code",
   "execution_count": null,
   "id": "6788f13d",
   "metadata": {},
   "outputs": [],
   "source": []
  },
  {
   "cell_type": "markdown",
   "id": "c9b1704f",
   "metadata": {},
   "source": [
    "## 24. Cambia el nombre de la columna Survived a: Sobrevivió."
   ]
  },
  {
   "cell_type": "code",
   "execution_count": null,
   "id": "8db88bfa",
   "metadata": {},
   "outputs": [],
   "source": []
  },
  {
   "cell_type": "markdown",
   "id": "297687b2",
   "metadata": {},
   "source": [
    "## 25. Borra las filas 1, 32 y 48"
   ]
  },
  {
   "cell_type": "code",
   "execution_count": null,
   "id": "5a350d27",
   "metadata": {},
   "outputs": [],
   "source": []
  },
  {
   "cell_type": "markdown",
   "id": "97e5d455",
   "metadata": {},
   "source": [
    "# 26. Creame un grafico de barras que muestre cuantas personas sobrevivieron y cuantas no en función de su sexo."
   ]
  },
  {
   "cell_type": "code",
   "execution_count": 15,
   "id": "f97b9b0f",
   "metadata": {},
   "outputs": [],
   "source": [
    "import seaborn as sns"
   ]
  },
  {
   "cell_type": "code",
   "execution_count": 16,
   "id": "6d15c6e7",
   "metadata": {},
   "outputs": [
    {
     "data": {
      "text/plain": [
       "<AxesSubplot:xlabel='Sex', ylabel='Survived'>"
      ]
     },
     "execution_count": 16,
     "metadata": {},
     "output_type": "execute_result"
    },
    {
     "data": {
      "image/png": "[encoded data removed]",
      "text/plain": [
       "<Figure size 432x288 with 1 Axes>"
      ]
     },
     "metadata": {
      "needs_background": "light"
     },
     "output_type": "display_data"
    }
   ],
   "source": [
    "titanic_df = pd.read_csv('titanic.csv')\n",
    "titanic_df.head()\n",
    "sns.barplot(data=titanic_df, x = titanic_df.Sex, y = titanic_df.Survived)"
   ]
  }
 ],
 "metadata": {
  "kernelspec": {
   "display_name": "Python 3 (ipykernel)",
   "language": "python",
   "name": "python3"
  },
  "language_info": {
   "codemirror_mode": {
    "name": "ipython",
    "version": 3
   },
   "file_extension": ".py",
   "mimetype": "text/x-python",
   "name": "python",
   "nbconvert_exporter": "python",
   "pygments_lexer": "ipython3",
   "version": "3.9.12"
  }
 },
 "nbformat": 4,
 "nbformat_minor": 5
}
