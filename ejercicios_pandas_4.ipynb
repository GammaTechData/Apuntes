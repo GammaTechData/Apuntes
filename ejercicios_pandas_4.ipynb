{
 "cells": [
  {
   "cell_type": "code",
   "execution_count": null,
   "id": "24751bfa",
   "metadata": {},
   "outputs": [],
   "source": []
  },
  {
   "cell_type": "markdown",
   "id": "5c7d4381",
   "metadata": {},
   "source": [
    "## 1. Construye una serie a partir del siguiente diccionario: \n",
    "``` python\n",
    "\n",
    "d = {'Alex': 6353, 'Wilmer': 9487, 'Isabel': 2233}\n",
    "```"
   ]
  },
  {
   "cell_type": "code",
   "execution_count": null,
   "id": "831093b8",
   "metadata": {},
   "outputs": [],
   "source": []
  },
  {
   "cell_type": "markdown",
   "id": "2fc079c9",
   "metadata": {},
   "source": [
    "## 2. Ahora, crea la misma serie, pero crealo directamente con estos indices (lee la documentación si es necesario):\n",
    "\n",
    "```python\n",
    "nombres = ['Wilmer', 'Lucas', 'Manu']\n",
    "\n",
    "```"
   ]
  },
  {
   "cell_type": "code",
   "execution_count": null,
   "id": "2a308138",
   "metadata": {},
   "outputs": [],
   "source": []
  },
  {
   "cell_type": "markdown",
   "id": "a255e658",
   "metadata": {},
   "source": [
    "Tras hacer el ejercicio, sale algo raro? Por qué?"
   ]
  },
  {
   "cell_type": "markdown",
   "id": "02805d0c",
   "metadata": {},
   "source": [
    "## 3. Cuantos nulos hay en la serie anterior?"
   ]
  },
  {
   "cell_type": "code",
   "execution_count": null,
   "id": "e7f2df4b",
   "metadata": {},
   "outputs": [],
   "source": []
  },
  {
   "cell_type": "markdown",
   "id": "58d8c429",
   "metadata": {},
   "source": [
    "## 4. Cargar el archivo \"titanic.csv\" en un DataFrame y mostrar 5 filas aleatorias del conjunto de datos."
   ]
  },
  {
   "cell_type": "code",
   "execution_count": null,
   "id": "9623203e",
   "metadata": {},
   "outputs": [],
   "source": []
  },
  {
   "cell_type": "markdown",
   "id": "66010b23",
   "metadata": {},
   "source": [
    "## 4a. Cuantas filas y columnas tiene el dataframe?"
   ]
  },
  {
   "cell_type": "code",
   "execution_count": null,
   "id": "931523cf",
   "metadata": {},
   "outputs": [],
   "source": []
  },
  {
   "cell_type": "markdown",
   "id": "8a1e3330",
   "metadata": {},
   "source": [
    "## 4.b Cuantos nulos hay en el dataframe?"
   ]
  },
  {
   "cell_type": "code",
   "execution_count": null,
   "id": "b8506045",
   "metadata": {},
   "outputs": [],
   "source": []
  },
  {
   "cell_type": "markdown",
   "id": "086b7490",
   "metadata": {},
   "source": [
    "## 4.c Puedes mostrarme, con una sola línea, las estadísticas del dataframe? (media, numero de filas no vacías, desviación típica, etc)"
   ]
  },
  {
   "cell_type": "code",
   "execution_count": null,
   "id": "0790c443",
   "metadata": {},
   "outputs": [],
   "source": []
  },
  {
   "cell_type": "markdown",
   "id": "cfa78a8c",
   "metadata": {},
   "source": [
    "## 4.d Selecciona las columnas de pasajeros, edades y sobrevivieron."
   ]
  },
  {
   "cell_type": "code",
   "execution_count": null,
   "id": "26fd9e24",
   "metadata": {},
   "outputs": [],
   "source": []
  },
  {
   "cell_type": "markdown",
   "id": "63622fbf",
   "metadata": {},
   "source": [
    "## 5. Calcular el número total de pasajeros en el Titanic."
   ]
  },
  {
   "cell_type": "code",
   "execution_count": null,
   "id": "3ff45a70",
   "metadata": {},
   "outputs": [],
   "source": []
  },
  {
   "cell_type": "markdown",
   "id": "9affc856",
   "metadata": {},
   "source": [
    "## 6. Determinar la cantidad de pasajeros que sobrevivieron y los que no sobrevivieron."
   ]
  },
  {
   "cell_type": "code",
   "execution_count": null,
   "id": "e874c3de",
   "metadata": {},
   "outputs": [],
   "source": []
  },
  {
   "cell_type": "markdown",
   "id": "d10c2e56",
   "metadata": {},
   "source": [
    "## 7. Calcular el porcentaje de pasajeros que sobrevivieron en el Titanic."
   ]
  },
  {
   "cell_type": "code",
   "execution_count": null,
   "id": "42cdb093",
   "metadata": {},
   "outputs": [],
   "source": []
  },
  {
   "cell_type": "markdown",
   "id": "5dcdc8f7",
   "metadata": {},
   "source": [
    "## 8. Encontrar la edad promedio de los pasajeros a bordo."
   ]
  },
  {
   "cell_type": "code",
   "execution_count": null,
   "id": "584c55c9",
   "metadata": {},
   "outputs": [],
   "source": []
  },
  {
   "cell_type": "markdown",
   "id": "ef667b3a",
   "metadata": {},
   "source": [
    "## 9. Calcular la cantidad de hombres y mujeres que viajaban en el Titanic."
   ]
  },
  {
   "cell_type": "code",
   "execution_count": null,
   "id": "5d4863a5",
   "metadata": {},
   "outputs": [],
   "source": []
  },
  {
   "cell_type": "markdown",
   "id": "3d68d0f2",
   "metadata": {},
   "source": [
    "## 10. Obtener el nombre de la persona más joven a bordo del Titanic."
   ]
  },
  {
   "cell_type": "code",
   "execution_count": null,
   "id": "7c053750",
   "metadata": {},
   "outputs": [],
   "source": []
  },
  {
   "cell_type": "markdown",
   "id": "3c2d7cf4",
   "metadata": {},
   "source": [
    "## 11. Calcular la tarifa promedio pagada por los pasajeros del Titanic."
   ]
  },
  {
   "cell_type": "code",
   "execution_count": null,
   "id": "c4f2aafd",
   "metadata": {},
   "outputs": [],
   "source": []
  },
  {
   "cell_type": "markdown",
   "id": "65d88eb1",
   "metadata": {},
   "source": [
    "## 12. Encontrar el número de pasajeros en cada clase (primera, segunda y tercera)."
   ]
  },
  {
   "cell_type": "code",
   "execution_count": null,
   "id": "ec0abdd4",
   "metadata": {},
   "outputs": [],
   "source": []
  },
  {
   "cell_type": "markdown",
   "id": "a1e423a5",
   "metadata": {},
   "source": [
    "## 13. Calcular la cantidad de pasajeros que viajaban solos en comparación con los que viajaban con familiares."
   ]
  },
  {
   "cell_type": "code",
   "execution_count": null,
   "id": "c24deb06",
   "metadata": {},
   "outputs": [],
   "source": []
  },
  {
   "cell_type": "markdown",
   "id": "5c0837f6",
   "metadata": {},
   "source": [
    "## 14. Encontrar la edad promedio de los pasajeros que sobrevivieron y los que no sobrevivieron."
   ]
  },
  {
   "cell_type": "code",
   "execution_count": null,
   "id": "1c8b977e",
   "metadata": {},
   "outputs": [],
   "source": []
  },
  {
   "cell_type": "markdown",
   "id": "857fac72",
   "metadata": {},
   "source": [
    "## 15. Obtener el número de sobrevivientes por clase de pasajero."
   ]
  },
  {
   "cell_type": "code",
   "execution_count": null,
   "id": "5fa0edd5",
   "metadata": {},
   "outputs": [],
   "source": []
  },
  {
   "cell_type": "markdown",
   "id": "1a494ed5",
   "metadata": {},
   "source": [
    "## 16. Encontrar la tarifa más alta pagada por un pasajero a bordo."
   ]
  },
  {
   "cell_type": "code",
   "execution_count": null,
   "id": "f17ea821",
   "metadata": {},
   "outputs": [],
   "source": []
  },
  {
   "cell_type": "markdown",
   "id": "2e6245fb",
   "metadata": {},
   "source": [
    "## 17. Calcular la cantidad de pasajeros que tenían hermanos o cónyuges a bordo."
   ]
  },
  {
   "cell_type": "code",
   "execution_count": null,
   "id": "0f6b631a",
   "metadata": {},
   "outputs": [],
   "source": []
  },
  {
   "cell_type": "markdown",
   "id": "9f6a0290",
   "metadata": {},
   "source": [
    "\n",
    "## 18. Determinar la cantidad de pasajeros que embarcaron en cada puerto (Cherburgo, Queenstown y Southampton)."
   ]
  },
  {
   "cell_type": "code",
   "execution_count": null,
   "id": "12861441",
   "metadata": {},
   "outputs": [],
   "source": []
  },
  {
   "cell_type": "markdown",
   "id": "809b502e",
   "metadata": {},
   "source": [
    "## 19. Crea una copia del dataframe. A partir de ahora, trabajaras con esa copia."
   ]
  },
  {
   "cell_type": "code",
   "execution_count": null,
   "id": "4d0d003e",
   "metadata": {},
   "outputs": [],
   "source": []
  },
  {
   "cell_type": "markdown",
   "id": "35753219",
   "metadata": {},
   "source": [
    "## 20.Crea una columna que sea el doble de la tarifa."
   ]
  },
  {
   "cell_type": "code",
   "execution_count": null,
   "id": "0eae0652",
   "metadata": {},
   "outputs": [],
   "source": []
  },
  {
   "cell_type": "markdown",
   "id": "b425efa2",
   "metadata": {},
   "source": [
    "## 21. Crea una columna que te coja la primera palabra después de la coma del nombre. Hazlo de forma directa y también con apply"
   ]
  },
  {
   "cell_type": "code",
   "execution_count": null,
   "id": "d3704118",
   "metadata": {},
   "outputs": [],
   "source": []
  },
  {
   "cell_type": "markdown",
   "id": "a37d0f03",
   "metadata": {},
   "source": [
    "## 22. Elimina las columnas de nombre y de tarifa."
   ]
  },
  {
   "cell_type": "code",
   "execution_count": null,
   "id": "20499074",
   "metadata": {},
   "outputs": [],
   "source": []
  },
  {
   "cell_type": "markdown",
   "id": "299e49a6",
   "metadata": {},
   "source": [
    "## 23.Dame los valores únicos de la columna creada en el 21"
   ]
  },
  {
   "cell_type": "code",
   "execution_count": null,
   "id": "d9b56fdd",
   "metadata": {},
   "outputs": [],
   "source": []
  },
  {
   "cell_type": "markdown",
   "id": "b8a73362",
   "metadata": {},
   "source": [
    "## 24. Cambia el nombre de la columna Survived a: Sobrevivió."
   ]
  },
  {
   "cell_type": "code",
   "execution_count": null,
   "id": "8961504e",
   "metadata": {},
   "outputs": [],
   "source": []
  },
  {
   "cell_type": "markdown",
   "id": "5812ba9b",
   "metadata": {},
   "source": [
    "## 25. Borra las filas 1, 32 y 48"
   ]
  },
  {
   "cell_type": "code",
   "execution_count": null,
   "id": "185075a2",
   "metadata": {},
   "outputs": [],
   "source": []
  },
  {
   "cell_type": "markdown",
   "id": "066d94d8",
   "metadata": {},
   "source": [
    "## 26. Creame un grafico de barras que muestre cuantas personas sobrevivieron y cuantas no en función de su sexo."
   ]
  },
  {
   "cell_type": "code",
   "execution_count": null,
   "id": "ad5ec4b3",
   "metadata": {},
   "outputs": [],
   "source": []
  }
 ],
 "metadata": {
  "kernelspec": {
   "display_name": "Python 3 (ipykernel)",
   "language": "python",
   "name": "python3"
  },
  "language_info": {
   "codemirror_mode": {
    "name": "ipython",
    "version": 3
   },
   "file_extension": ".py",
   "mimetype": "text/x-python",
   "name": "python",
   "nbconvert_exporter": "python",
   "pygments_lexer": "ipython3",
   "version": "3.9.12"
  }
 },
 "nbformat": 4,
 "nbformat_minor": 5
}
